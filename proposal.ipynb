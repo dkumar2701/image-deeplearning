{
 "cells": [
  {
   "cell_type": "markdown",
   "metadata": {
    "id": "kGMAhIAC1k6i"
   },
   "source": [
    "# CS 449 Final Project Proposal\n",
    "\n",
    "Due: April 21, 2023 at 11:59pm\n",
    "\n",
    "## 1. Names and Net IDs\n",
    "\n",
    "Adam Holeman - agh4973\n",
    "\n",
    "Jason Huang - jjh9397\n",
    "\n",
    "Divy Kumar - dko6133\n",
    "\n",
    "## 2. Abstract\n",
    "\n",
    "Our final project aims to generate images from a user-specified class in the CIFAR-10 dataset. We will compare a diffusion model with a GAN model using the FID metric for image quality. Time permitting, we will also train these models on different datasets with slightly larger resolution images."
   ]
  },
  {
   "cell_type": "markdown",
   "metadata": {
    "id": "YX2wBFIs2S9Q"
   },
   "source": [
    "## 3. Introduction\n",
    "\n",
    "Generative models have recently attracted much attention and have wide ranging applications. Both GAN's and diffusion models are able to generate perceptually detailed images, and have played a big role in recent developments in image generation. We want to create and compare these models to better understand how they work. The CIFAR-10 dataset consists of 60,000 images each of which is 32x32 pixels and is separated in to 10 classes. We will train a model to generate images in each of these classes."
   ]
  },
  {
   "cell_type": "markdown",
   "metadata": {
    "id": "B-1Lwrn635Qa"
   },
   "source": [
    "## 4a. Describe your dataset(s)\n",
    "\n",
    "The CIFAR-10 (Canadian Institute for Advanced Research) dataset consists of 60,000 images each of which is 32x32 pixels and is separated in to 10 classes. The data can be found at the following link: https://paperswithcode.com/dataset/cifar-10. The 10 labels are airplane, automobile, bird, cat, deer, dog, frog, horse, ship, and truck. This dataset has been used as a benchmark in various imaging tasks, and in particular as an image generation benchmark. The following two papers use the CIFAR-10 dataset to train models related to the goals of our project:\n",
    "\n",
    "Wang, Zhendong, et al. ‘Diffusion-GAN: Training GANs with Diffusion’. ArXiv [Cs.LG], 2022, http://arxiv.org/abs/2206.02262. arXiv.\n",
    "\n",
    "Ho, Jonathan, et al. ‘Denoising Diffusion Probabilistic Models’. ArXiv [Cs.LG], 2020, http://arxiv.org/abs/2006.11239. arXiv.\n",
    "\n",
    "The citation for the dataset itself is included below.\n",
    "\n",
    "Krizhevsky, Alex. \"Learning Multiple Layers of Features from Tiny Images.\" (2009)"
   ]
  },
  {
   "cell_type": "markdown",
   "metadata": {},
   "source": [
    "## 4b. Load your dataset(s)"
   ]
  },
  {
   "cell_type": "code",
   "execution_count": 1,
   "metadata": {
    "colab": {
     "base_uri": "https://localhost:8080/",
     "height": 244
    },
    "id": "VUfetuVm5WTy",
    "outputId": "30b7a0f8-9bb8-4ad9-9376-55fed29f23dd"
   },
   "outputs": [
    {
     "name": "stdout",
     "output_type": "stream",
     "text": [
      "Downloading https://www.cs.toronto.edu/~kriz/cifar-10-python.tar.gz to ./data\\cifar-10-python.tar.gz\n"
     ]
    },
    {
     "name": "stderr",
     "output_type": "stream",
     "text": [
      "100%|██████████| 170498071/170498071 [00:14<00:00, 11649988.16it/s]\n"
     ]
    },
    {
     "name": "stdout",
     "output_type": "stream",
     "text": [
      "Extracting ./data\\cifar-10-python.tar.gz to ./data\n",
      "Files already downloaded and verified\n"
     ]
    },
    {
     "data": {
      "image/png": "[encoded data removed]",
      "text/plain": [
       "<Figure size 640x480 with 1 Axes>"
      ]
     },
     "metadata": {},
     "output_type": "display_data"
    },
    {
     "name": "stdout",
     "output_type": "stream",
     "text": [
      "dog   bird  frog  car  \n"
     ]
    }
   ],
   "source": [
    "import matplotlib.pyplot as plt\n",
    "import numpy as np\n",
    "import torch\n",
    "import torchvision\n",
    "import torchvision.transforms as transforms\n",
    "\n",
    "transform = transforms.Compose(\n",
    "    [transforms.ToTensor(),\n",
    "     transforms.Normalize((0.5, 0.5, 0.5), (0.5, 0.5, 0.5))])\n",
    "batch_size = 4\n",
    "trainset = torchvision.datasets.CIFAR10(root='./data', train=True, download=True, transform=transform)\n",
    "trainloader = torch.utils.data.DataLoader(trainset, batch_size=batch_size, shuffle=True, num_workers=2)\n",
    "testset = torchvision.datasets.CIFAR10(root='./data', train=False, download=True, transform=transform)\n",
    "testloader = torch.utils.data.DataLoader(testset, batch_size=batch_size, shuffle=False, num_workers=2)\n",
    "classes = ('plane', 'car', 'bird', 'cat', 'deer', 'dog', 'frog', 'horse', 'ship', 'truck')\n",
    "\n",
    "# functions to show an image\n",
    "def imshow(img):\n",
    "    img = img / 2 + 0.5     # unnormalize\n",
    "    npimg = img.numpy()\n",
    "    plt.imshow(np.transpose(npimg, (1, 2, 0)))\n",
    "    plt.show()\n",
    "\n",
    "dataiter = iter(trainloader)\n",
    "images, labels = next(dataiter)\n",
    "\n",
    "imshow(torchvision.utils.make_grid(images))\n",
    "print(' '.join(f'{classes[labels[j]]:5s}' for j in range(batch_size)))"
   ]
  },
  {
   "cell_type": "markdown",
   "metadata": {},
   "source": [
    "## 4c. Small dataset\n",
    "\n",
    "Since our images are already relatively small (32x32) for our purpose of generating images, we will limit the dataset to specific classes to create a small dataset and possibly the first 3000 examples if necessary to reduce size further. This makes sense for our purpose because generating images from a single class is still meaningful for our goals.\n",
    "\n",
    "Our current dataset has 10 classes and 6000 examples per class for a total of approximately 160MB. Therefore, taking just a single class will approximately divide the size by 10, and taking the first 3000 examples of that class will approximately halve the size further to give a dataset that is less than 10MB in size."
   ]
  },
  {
   "cell_type": "markdown",
   "metadata": {
    "id": "XCKtudoJ6V4g"
   },
   "source": [
    "## 5. Methods\n",
    "\n",
    "Our primary goal is to implement a diffusion model and train it on the CIFAR-10 dataset. Here's a super brief summary of where these models come from.\n",
    "\n",
    "<h1> <center> Basic Model Setup </center> </h1>\n",
    "Diffusion models aim to approximate a probability distribution $p_{\\theta}(x)$ over the input data $x$ by incorporating a set of latent variables (i.e. variable which are not observed in the data - meant to represent some 'features' of the data which the algorithm might observe), $z_{1},..., z_{t}$. By modeling a joint distribution $p_{\\theta}(x, z_{1},..., z_{t})$, one reconstructs the distribution $p_{\\theta}(x)$ by marginalizing with respect to the latent variables $z_{i}$. The joint distribution decomposes as a product of conditional distributions\n",
    "\\begin{align}\n",
    "p_{\\theta}(x, z_{i}) = p_{\\theta}(x|z_{1}) \\left(\\prod_{i=1}^{t-1} p_{\\theta}(z_{i} | z_{i+1}) \\right) p_{\\theta}(z_{t})\n",
    "\\end{align}\n",
    "and each of these distributions is parameterized by a deep neural network. The posterior distribution $p_{\\theta}(z_{1} | x)$ is typically intractable, so we introduce an auxiliary distribution $q_{\\phi}(z_{1}|x)$ (as well as distributions $q_{\\phi}(z_{i+1}| z_{i})$) which aims to approximate the posterior distribution, which we also parameterize by neural networks.\n",
    "\n",
    "\n",
    "\n",
    "For more specific architectural details in the models (structure of the parameterizing neural networks, values of the many hyperparameters, etc...) we will likely adopt conventions from the literature. See Citations 2 and 3 below.\n",
    "\n",
    "<h1> <center> Training Method </center> </h1>\n",
    "\n",
    "In the above context, there are two related objectives to optimize:\n",
    "- Given some data $x$, we would like maximize the log-likelihood of the marginal distribution: $log(p_{\\theta}(x))$. This improves the generative model.\n",
    "\n",
    "- We would also like to ensure that our model $q_{\\phi}(z_{1}|x)$ is a good approximation of the intractable posterior distribution $p_{\\theta}(z_{1}|x)$, as for example measured by the Kullback-Leibler divergence: $D_{KL}(q_{\\phi}(z_{1}|x)| p_{\\theta}(z_{1}|x)$.\n",
    "\n",
    "These two goals can be accomplished simultaneously by maximizing the 'evidence lower bound', abbreviated by ELBO. See citation 1 below.\n",
    "\n",
    "In order to make optimization tractable, we will impose some hypotheses on these distributions - e.g. we'll start by taking the $q_{\\phi}$ to be Gaussians\n",
    "\\begin{align}\n",
    "q_{\\phi}(z_{i}| z_{i-1}) = \\mathcal{N}(z_{i} | \\alpha_{t} z_{i-1}, \\beta_{i} I)\n",
    "\\end{align}\n",
    "for some hyperparameters $\\alpha_{i}$ and $\\beta_{i}$. Imposing a similar hypothesis on the prior distribution $p_{\\theta}(z_{t})$ places us in a context where we can apply gradient based methods to optimize the ELBO using the reparameterization trick of Kingma and Welling (see Citation 1 below).\n",
    "\n",
    "\n",
    "**Citations**\n",
    "\n",
    "1 - Kingma, Diederik P., and Max Welling. ‘Auto-Encoding Variational Bayes’. ArXiv [Stat.ML], 2022, http://arxiv.org/abs/1312.6114. arXiv.\n",
    "\n",
    "2 - Ho, Jonathan, et al. ‘Denoising Diffusion Probabilistic Models’. ArXiv [Cs.LG], 2020, http://arxiv.org/abs/2006.11239. arXiv.\n",
    "\n",
    "3 - Kingma, Diederik P., et al. ‘Variational Diffusion Models’. ArXiv [Cs.LG], 2023, http://arxiv.org/abs/2107.00630. arXiv."
   ]
  },
  {
   "cell_type": "markdown",
   "metadata": {
    "id": "BA5eIKsR7QRk"
   },
   "source": [
    "## 6. Deliverables\n",
    "\n",
    "### 6.1 Essential Goals\n",
    "- We will train a diffusion model on a single class of our CIFAR-10 data to be able to generate images from an image input\n",
    "- We will evaluate the performance of the model using a metric such as FID\n",
    "- We will compare the generated images against a pretrained GAN model\n",
    "\n",
    "### 6.2 Desired Goals\n",
    "- We will train the diffusion model on the entire CIFAR-10 dataset and generate images of good quality i.e. an image classifier can detect the right class from the generated image; FID score < ~100?\n",
    "- We will train a GAN on the CIFAR-10 dataset and compare the results with our diffusion model\n",
    "\n",
    "### 6.3 Stretch Goals\n",
    "- We will use a dataset with larger images and generates images of higher resolution with the diffusion model\n",
    "- We will compare the results from above goal with a pretrained GAN and/or a GAN we train on the same dataset\n"
   ]
  },
  {
   "cell_type": "markdown",
   "metadata": {
    "id": "xlB_wLS381Xy"
   },
   "source": [
    "## 7. Hopes and Concerns\n",
    "\n",
    "We're excited about seeing the output images we can generate and how they can change as we tune the model."
   ]
  },
  {
   "cell_type": "markdown",
   "metadata": {
    "id": "u2peFc_M8-E7"
   },
   "source": [
    "## 8. References\n",
    "\n",
    " \n",
    "\n",
    " Kingma, Diederik P., and Max Welling. ‘Auto-Encoding Variational Bayes’. ArXiv [Stat.ML], 2022, http://arxiv.org/abs/1312.6114. arXiv.\n",
    "\n",
    " Ho, Jonathan, et al. ‘Denoising Diffusion Probabilistic Models’. ArXiv [Cs.LG], 2020, http://arxiv.org/abs/2006.11239. arXiv.\n",
    "\n",
    " Kingma, Diederik P., et al. ‘Variational Diffusion Models’. ArXiv [Cs.LG], 2023, http://arxiv.org/abs/2107.00630. arXiv.\n",
    " \n",
    " Wang, Zhendong, et al. ‘Diffusion-GAN: Training GANs with Diffusion’. ArXiv [Cs.LG], 2022, http://arxiv.org/abs/2206.02262. arXiv.\n",
    " \n",
    " Krizhevsky, Alex. \"Learning Multiple Layers of Features from Tiny Images.\" (2009)\n",
    "\n",
    "\n",
    "https://paperswithcode.com/sota/image-generation-on-cifar-10"
   ]
  }
 ],
 "metadata": {
  "colab": {
   "provenance": []
  },
  "kernelspec": {
   "display_name": "Python 3",
   "language": "python",
   "name": "python3"
  },
  "language_info": {
   "codemirror_mode": {
    "name": "ipython",
    "version": 3
   },
   "file_extension": ".py",
   "mimetype": "text/x-python",
   "name": "python",
   "nbconvert_exporter": "python",
   "pygments_lexer": "ipython3",
   "version": "3.8.5"
  }
 },
 "nbformat": 4,
 "nbformat_minor": 4
}
