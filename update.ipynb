{
 "cells": [
  {
   "attachments": {},
   "cell_type": "markdown",
   "metadata": {
    "id": "kGMAhIAC1k6i"
   },
   "source": [
    "# CS 449 Final Project Update\n",
    "\n",
    "Due: May 23, 2023 at 11:59pm\n",
    "\n",
    "## 1. Names and Net IDs\n",
    "\n",
    "Adam Holeman - agh4973\n",
    "\n",
    "Jason Huang - jjh9397\n",
    "\n",
    "Divy Kumar - dko6133\n",
    "\n",
    "## 2. Abstract\n",
    "\n",
    "*Write a new abstract that describes the motivation for your project and proposed methods. This should reflect any changes you've made, but you'll explain those changes later.*\n",
    "\n",
    "> Our final project aims to generate images from a user-specified class in the CIFAR-10 dataset. We will compare a diffusion model with a DCGAN model using the FID metric for image quality, both unconditioned and with class-conditioning. Comparisons will include changes in diffusion architecture and hyperparameter experimentation. Time permitting, we will also train these models on different datasets with slightly larger resolution images."
   ]
  },
  {
   "attachments": {},
   "cell_type": "markdown",
   "metadata": {
    "id": "XNe28Z6wG3JE"
   },
   "source": [
    "## 3. Big Changes\n",
    "\n",
    "*Describe any major changes that have taken your project in a new direction. What made you decide to make these changes? Were some things easier or harder than you expected?*\n",
    "\n",
    "> "
   ]
  },
  {
   "attachments": {},
   "cell_type": "markdown",
   "metadata": {
    "id": "B-1Lwrn635Qa"
   },
   "source": [
    "## 4a. Describe your dataset(s)\n",
    "\n",
    "*This should be an updated version of your datasets section from your proposal. Write this section as if the reader hasn't read your original proposal. List the datasets you're using, where you found them, and what they contain. Be detailed! For each dataset, what does the data look like? What is the data representation? (e.g., what resolution of images? what length of sequences?) How is the data annotated or labeled? Include citations for the datasets. Include at least one citation of previous work that has used this data, or an explanation of why it hasn't been used before*\n",
    "\n",
    "> The CIFAR-10 (Canadian Institute for Advanced Research) dataset consists of 60,000 images each of which is 32x32 pixels and is separated in to 10 classes. The data can be found at the following link: https://paperswithcode.com/dataset/cifar-10. The 10 labels are airplane, automobile, bird, cat, deer, dog, frog, horse, ship, and truck. This dataset has been used as a benchmark in various imaging tasks, and in particular as an image generation benchmark. The following two papers use the CIFAR-10 dataset to train models related to the goals of our project:\n",
    "\n",
    "> Wang, Zhendong, et al. ‘Diffusion-GAN: Training GANs with Diffusion’. ArXiv [Cs.LG], 2022, http://arxiv.org/abs/2206.02262. arXiv.\n",
    "\n",
    "> Ho, Jonathan, et al. ‘Denoising Diffusion Probabilistic Models’. ArXiv [Cs.LG], 2020, http://arxiv.org/abs/2006.11239. arXiv.\n",
    "\n",
    "> The citation for the dataset itself is included below.\n",
    "\n",
    "> Krizhevsky, Alex. \"Learning Multiple Layers of Features from Tiny Images.\" (2009)"
   ]
  },
  {
   "attachments": {},
   "cell_type": "markdown",
   "metadata": {},
   "source": [
    "## 4b. Load your dataset(s)\n",
    "\n",
    "*Load at least a few examples and visualize them as best you can*"
   ]
  },
  {
   "cell_type": "code",
   "execution_count": 1,
   "metadata": {},
   "outputs": [
    {
     "name": "stdout",
     "output_type": "stream",
     "text": [
      "Downloading https://www.cs.toronto.edu/~kriz/cifar-10-python.tar.gz to ./data\\cifar-10-python.tar.gz\n"
     ]
    },
    {
     "name": "stderr",
     "output_type": "stream",
     "text": [
      "100%|██████████| 170498071/170498071 [00:21<00:00, 8026696.63it/s]\n"
     ]
    },
    {
     "name": "stdout",
     "output_type": "stream",
     "text": [
      "Extracting ./data\\cifar-10-python.tar.gz to ./data\n",
      "Files already downloaded and verified\n"
     ]
    },
    {
     "data": {
      "image/png": "[encoded data removed]",
      "text/plain": [
       "<Figure size 640x480 with 1 Axes>"
      ]
     },
     "metadata": {},
     "output_type": "display_data"
    },
    {
     "name": "stdout",
     "output_type": "stream",
     "text": [
      "deer  horse cat   truck\n"
     ]
    }
   ],
   "source": [
    "import matplotlib.pyplot as plt\n",
    "import numpy as np\n",
    "import torch\n",
    "import torchvision\n",
    "import torchvision.transforms as transforms\n",
    "\n",
    "transform = transforms.Compose(\n",
    "    [transforms.ToTensor(),\n",
    "     transforms.Normalize((0.5, 0.5, 0.5), (0.5, 0.5, 0.5))])\n",
    "batch_size = 4\n",
    "trainset = torchvision.datasets.CIFAR10(root='./data', train=True, download=True, transform=transform)\n",
    "trainloader = torch.utils.data.DataLoader(trainset, batch_size=batch_size, shuffle=True, num_workers=2)\n",
    "testset = torchvision.datasets.CIFAR10(root='./data', train=False, download=True, transform=transform)\n",
    "testloader = torch.utils.data.DataLoader(testset, batch_size=batch_size, shuffle=False, num_workers=2)\n",
    "classes = ('plane', 'car', 'bird', 'cat', 'deer', 'dog', 'frog', 'horse', 'ship', 'truck')\n",
    "\n",
    "# functions to show an image\n",
    "def imshow(img):\n",
    "    img = img / 2 + 0.5     # unnormalize\n",
    "    npimg = img.numpy()\n",
    "    plt.imshow(np.transpose(npimg, (1, 2, 0)))\n",
    "    plt.show()\n",
    "\n",
    "dataiter = iter(trainloader)\n",
    "images, labels = next(dataiter)\n",
    "\n",
    "imshow(torchvision.utils.make_grid(images))\n",
    "print(' '.join(f'{classes[labels[j]]:5s}' for j in range(batch_size)))"
   ]
  },
  {
   "attachments": {},
   "cell_type": "markdown",
   "metadata": {},
   "source": [
    "## 4c. Small dataset\n",
    "\n",
    "*Describe the small dataset you constructed as requested in the project proposal. How many examples did you use? How large was the dataset in total?*\n",
    "\n",
    "Since our images are already relatively small (32x32) for our purpose of generating images, we will limit the dataset to specific classes to create a small dataset and possibly the first 3000 examples if necessary to reduce size further. This makes sense for our purpose because generating images from a single class is still meaningful for our goals.\n",
    "\n",
    "Our current dataset has 10 classes and 6000 examples per class for a total of approximately 160MB. Therefore, taking just a single class will approximately divide the size by 10, and taking the first 3000 examples of that class will approximately halve the size further to give a dataset that is less than 10MB in size. For our later goals to include class conditioning, we are using only 4 of the 10 classes to keep the dataset size small with 3000 examples per class."
   ]
  },
  {
   "attachments": {},
   "cell_type": "markdown",
   "metadata": {
    "id": "XCKtudoJ6V4g"
   },
   "source": [
    "## 5. Updated Methods\n",
    "\n",
    "*This should be an updated version of your methods section from your proposal. Write this section as if the reader hasn't read your original proposal. For example:*\n",
    "\n",
    "Our primary goal is to implement a diffusion model and train it on the CIFAR-10 dataset. Here's a super brief summary of where these models come from.\n",
    "\n",
    "<h1> <center> Basic Model Setup </center> </h1>\n",
    "\n",
    "Diffusion models aim to approximate a probability distribution $p_{\\theta}(x)$ over the input data $x$ by incorporating a set of latent variables (i.e. variable which are not observed in the data - meant to represent some 'features' of the data which the algorithm might observe), $z_{1},..., z_{t}$. By modeling a joint distribution $p_{\\theta}(x, z_{1},..., z_{t})$, one reconstructs the distribution $p_{\\theta}(x)$ by marginalizing with respect to the latent variables $z_{i}$. The joint distribution decomposes as a product of conditional distributions\n",
    "\\begin{align}\n",
    "p_{\\theta}(x, z_{i}) = p_{\\theta}(x|z_{1}) \\left(\\prod_{i=1}^{t-1} p_{\\theta}(z_{i} | z_{i+1}) \\right) p_{\\theta}(z_{t})\n",
    "\\end{align}\n",
    "and each of these distributions is parameterized by a deep neural network. The posterior distribution $p_{\\theta}(z_{1} | x)$ is typically intractable, so we introduce an auxiliary distribution $q_{\\phi}(z_{1}|x)$ (as well as distributions $q_{\\phi}(z_{i+1}| z_{i})$) which aims to approximate the posterior distribution, which we also parameterize by neural networks.\n",
    "\n",
    "\n",
    "\n",
    "For more specific architectural details in the models (structure of the parameterizing neural networks, values of the many hyperparameters, etc...) we will adopt conventions from the literature, specifically citation 2, Ho et al.\n",
    "\n",
    "<h1> <center> Training Method </center> </h1>\n",
    "\n",
    "In the above context, there are two related objectives to optimize:\n",
    "- Given some data $x$, we would like maximize the log-likelihood of the marginal distribution: $log(p_{\\theta}(x))$. This improves the generative model.\n",
    "\n",
    "- We would also like to ensure that our model $q_{\\phi}(z_{1}|x)$ is a good approximation of the intractable posterior distribution $p_{\\theta}(z_{1}|x)$, as for example measured by the Kullback-Leibler divergence: $D_{KL}(q_{\\phi}(z_{1}|x)| p_{\\theta}(z_{1}|x)$.\n",
    "\n",
    "These two goals can be accomplished simultaneously by maximizing the 'evidence lower bound', abbreviated by ELBO. See citation 1 below.\n",
    "\n",
    "In order to make optimization tractable, we will impose some hypotheses on these distributions - e.g. we'll start by taking the $q_{\\phi}$ to be Gaussians\n",
    "\\begin{align}\n",
    "q_{\\phi}(z_{i}| z_{i-1}) = \\mathcal{N}(z_{i} | \\alpha_{t} z_{i-1}, \\beta_{i} I)\n",
    "\\end{align}\n",
    "for some hyperparameters $\\alpha_{i}$ and $\\beta_{i}$. Imposing a similar hypothesis on the prior distribution $p_{\\theta}(z_{t})$ places us in a context where we can apply gradient based methods to optimize the ELBO using the reparameterization trick of Kingma and Welling (see Citation 1 below).\n",
    "\n",
    "\n",
    "**Citations**\n",
    "\n",
    "1 - Kingma, Diederik P., and Max Welling. ‘Auto-Encoding Variational Bayes’. ArXiv [Stat.ML], 2022, http://arxiv.org/abs/1312.6114. arXiv.\n",
    "\n",
    "2 - Ho, Jonathan, et al. ‘Denoising Diffusion Probabilistic Models’. ArXiv [Cs.LG], 2020, http://arxiv.org/abs/2006.11239. arXiv.\n",
    "\n",
    "3 - Kingma, Diederik P., et al. ‘Variational Diffusion Models’. ArXiv [Cs.LG], 2023, http://arxiv.org/abs/2107.00630. arXiv."
   ]
  },
  {
   "attachments": {},
   "cell_type": "markdown",
   "metadata": {
    "id": "BA5eIKsR7QRk"
   },
   "source": [
    "## 6. Proposed Deliverables\n",
    "\n",
    "*Copy the deliverables from your proposal and write a sentence saying whether you completed this goal, made progress on this goal, or abandoned this goal. Unless you completed the goal, give an explanation of how it went.*\n",
    "\n",
    "### 6.1 Previous Essential Goals\n",
    "- Our plan is to create the model from scratch following the implementation from Ho et al. We will be using the implementation from https://www.youtube.com/watch?v=a4Yfz2FxXiY as reference if we get stuck. One change we may make right away is to use a simpler architecture for the neural network, since U-Nets are expensive to train.\n",
    "- We will evaluate the performance of the model using this FID implementation: https://pytorch.org/ignite/generated/ignite.metrics.FID.html. \n",
    "- We are revising this goal to be the training of a DCGAN model on CIFAR-10 following https://pytorch.org/tutorials/beginner/dcgan_faces_tutorial.html. We will keep both this and the diffusion model unconditional at first.\n",
    "\n",
    "### 6.2 Previous Desired Goals\n",
    "- We will compare different neural network architectures such as U-Net and simpler architectures (e.g. a CNN).\n",
    "- We will experiment with hyperparameters such as noise schedule, number of timesteps, and width/size of NN layers to improve performance.\n",
    "- Our diffusion model will do conditional generation, following the paper example and reference implementation.\n",
    "- We will compare our GAN against our diffusion model using FID score. The architecture of the GAN will follow the above pytorch tutorial, but we will add in class conditioning.\n",
    "\n",
    "### 6.3 Previous Stretch Goals\n",
    "- We would like to explore ways of interpreting and visualizing the model.\n",
    "  - For example, since we plan to create a conditional model, we could identify which parts of the network are activated by different labels.\n",
    "  - Once having identified neurons or layers which exhibit high activation for certain labels, we could try to synthesize input which selectively activates   these neurons or layers. Feeding this input into the denoising net, what does our model generate? Does the output exhibit features of the original class? How does this change as we explore different parts of the denoising network? \n",
    "- We would like to explore the use of Low Rank Adaptation to be able to fine tune the model with small amounts of data.\n",
    "  - Following the paper, the idea would be to first train the model and then freeze the weights. The model can then be fine tuned with much fewer examples and parameters trained by replacing the gradient update with a low rank decomposition BA. B and A are low rank matrices and contain the parameters that are trained, while the pretrained weights of the model are frozen. The paper and implementations typically apply these to specific layers such as Attention layers, but in theory it should work with any of the weight matrices in a neural network so we believe as a stretch goal it could be added to give a new way to fine tune the model."
   ]
  },
  {
   "attachments": {},
   "cell_type": "markdown",
   "metadata": {
    "id": "8jktC1PBOgPe"
   },
   "source": [
    "## 7. Results So Far\n",
    "\n",
    "*Show the results of your methods trained on your data. You should at least have empirical results for the small dataset described in 4c. Unless you are doing generation or another task where simple models (e.g., linear regression or logistic regression) aren't applicable, we strongly encourage you to compare your initial results against a simple baseline. If you have additional results, you're welcome to include those as well.*\n",
    "\n",
    "> For example: our logistic regression baseline achieves 80% accuracy on Fashion-MNIST, and our MLP achieves 85% accuracy, when applied to our small dataset containing 1,000 subsampled images."
   ]
  },
  {
   "attachments": {},
   "cell_type": "markdown",
   "metadata": {
    "id": "CxN_i_FiH0Yc"
   },
   "source": [
    "## 8. New Deliverables\n",
    "\n",
    "*For any proposed deliverables that you did NOT complete or abandon, copy them into these lists below. Then, if you have abandoned or completed your Desired or Stretch goals, add new goals until you have at least two goals per category.*\n",
    "\n",
    "8.1 New Essential Goals\n",
    "\n",
    "- Copy the old essential goals that you haven't yet completed or abandoned.\n",
    "\n",
    "- Don't add any new Essential goals.\n",
    "\n",
    "8.2 New Desired Goals\n",
    "\n",
    "- Copy the old desired goals that you haven't yet completed or abandoned.\n",
    "\n",
    "- Make sure you have at least two Desired goals left to complete here, adding new goals as necessary.\n",
    "\n",
    "8.3 New Stretch Goals\n",
    "\n",
    "- Copy the old stretch goals that you haven't yet completed or abandoned.\n",
    "\n",
    "- Make sure you have at least two Stretch goals left to complete here, adding new goals as necessary."
   ]
  },
  {
   "attachments": {},
   "cell_type": "markdown",
   "metadata": {
    "id": "xlB_wLS381Xy"
   },
   "source": [
    "## 9. Hopes and Concerns\n",
    "\n",
    "*What's gone well so far? What's been the hardest thing?*\n",
    "\n",
    "> For example: we got really bored of staring at pixelated hand-written digits for hours on end."
   ]
  },
  {
   "attachments": {},
   "cell_type": "markdown",
   "metadata": {
    "id": "u2peFc_M8-E7"
   },
   "source": [
    "## 10. References\n",
    "\n",
    "*Cite the papers or sources that you used to discover your datasets and/or models, if you didn't include the citation above. For example:*\n",
    "\n",
    "LeCun, Yann, et al. \"Gradient-based learning applied to document recognition.\" Proceedings of the IEEE 86.11 (1998): 2278-2324."
   ]
  }
 ],
 "metadata": {
  "colab": {
   "provenance": []
  },
  "kernelspec": {
   "display_name": "Python 3",
   "language": "python",
   "name": "python3"
  },
  "language_info": {
   "codemirror_mode": {
    "name": "ipython",
    "version": 3
   },
   "file_extension": ".py",
   "mimetype": "text/x-python",
   "name": "python",
   "nbconvert_exporter": "python",
   "pygments_lexer": "ipython3",
   "version": "3.10.11"
  }
 },
 "nbformat": 4,
 "nbformat_minor": 1
}
