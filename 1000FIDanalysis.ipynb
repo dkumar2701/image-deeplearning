{
 "cells": [
  {
   "cell_type": "markdown",
   "metadata": {
    "id": "7HLHNWs4fx9z"
   },
   "source": [
    "# Running a Model"
   ]
  },
  {
   "cell_type": "markdown",
   "metadata": {},
   "source": [
    "## For Google Drive"
   ]
  },
  {
   "cell_type": "code",
   "execution_count": null,
   "metadata": {
    "colab": {
     "base_uri": "https://localhost:8080/"
    },
    "id": "3KThdduZgR21",
    "outputId": "9ac29f94-1276-4656-fc42-6ddc57a57adb"
   },
   "outputs": [],
   "source": [
    "from google.colab import drive\n",
    "drive.mount('/content/drive')"
   ]
  },
  {
   "cell_type": "code",
   "execution_count": null,
   "metadata": {
    "colab": {
     "base_uri": "https://localhost:8080/"
    },
    "id": "4a1o3I7SlbsR",
    "outputId": "94ebc71d-4cf7-404d-8435-aac453a12312"
   },
   "outputs": [],
   "source": [
    "%cd /content/drive/MyDrive/Project_imageGen/project-image_generation"
   ]
  },
  {
   "cell_type": "markdown",
   "metadata": {},
   "source": [
    "## For Own computer"
   ]
  },
  {
   "cell_type": "code",
   "execution_count": 1,
   "metadata": {
    "colab": {
     "base_uri": "https://localhost:8080/"
    },
    "id": "-pJ1akUTljnu",
    "outputId": "26e99fe9-611d-438f-cf9f-a406511641a7"
   },
   "outputs": [
    {
     "name": "stdout",
     "output_type": "stream",
     "text": [
      "/home/jupyter/project-image_generation\n"
     ]
    }
   ],
   "source": [
    "!pwd"
   ]
  },
  {
   "cell_type": "code",
   "execution_count": null,
   "metadata": {
    "colab": {
     "base_uri": "https://localhost:8080/"
    },
    "id": "oVMBpGyYiSo9",
    "outputId": "10ec5d5b-0295-49b9-9d72-f2ad284718c3"
   },
   "outputs": [],
   "source": [
    "pip install pytorch-ignite"
   ]
  },
  {
   "cell_type": "code",
   "execution_count": 14,
   "metadata": {},
   "outputs": [
    {
     "name": "stdout",
     "output_type": "stream",
     "text": [
      "Requirement already satisfied: torch in /opt/conda/lib/python3.7/site-packages (1.13.1)\n",
      "Requirement already satisfied: typing-extensions in /opt/conda/lib/python3.7/site-packages (from torch) (4.5.0)\n",
      "Requirement already satisfied: nvidia-cuda-runtime-cu11==11.7.99 in /opt/conda/lib/python3.7/site-packages (from torch) (11.7.99)\n",
      "Requirement already satisfied: nvidia-cudnn-cu11==8.5.0.96 in /opt/conda/lib/python3.7/site-packages (from torch) (8.5.0.96)\n",
      "Requirement already satisfied: nvidia-cublas-cu11==11.10.3.66 in /opt/conda/lib/python3.7/site-packages (from torch) (11.10.3.66)\n",
      "Requirement already satisfied: nvidia-cuda-nvrtc-cu11==11.7.99 in /opt/conda/lib/python3.7/site-packages (from torch) (11.7.99)\n",
      "Requirement already satisfied: setuptools in /opt/conda/lib/python3.7/site-packages (from nvidia-cublas-cu11==11.10.3.66->torch) (67.7.2)\n",
      "Requirement already satisfied: wheel in /opt/conda/lib/python3.7/site-packages (from nvidia-cublas-cu11==11.10.3.66->torch) (0.40.0)\n",
      "Note: you may need to restart the kernel to use updated packages.\n"
     ]
    }
   ],
   "source": [
    "pip install torch"
   ]
  },
  {
   "cell_type": "code",
   "execution_count": null,
   "metadata": {},
   "outputs": [],
   "source": [
    "pip install torchvision"
   ]
  },
  {
   "cell_type": "code",
   "execution_count": 28,
   "metadata": {},
   "outputs": [
    {
     "name": "stdout",
     "output_type": "stream",
     "text": [
      "Found existing installation: nvidia-cublas-cu11 11.10.3.66\n",
      "Uninstalling nvidia-cublas-cu11-11.10.3.66:\n",
      "  Successfully uninstalled nvidia-cublas-cu11-11.10.3.66\n",
      "Note: you may need to restart the kernel to use updated packages.\n"
     ]
    }
   ],
   "source": [
    "pip uninstall nvidia_cublas_cu11 --yes"
   ]
  },
  {
   "cell_type": "code",
   "execution_count": 3,
   "metadata": {
    "id": "HSA-_c4ffx93"
   },
   "outputs": [],
   "source": [
    "#Importing\n",
    "import os\n",
    "import random\n",
    "import copy\n",
    "import matplotlib.pyplot as plt\n",
    "import matplotlib.animation as animation\n",
    "from IPython.display import HTML\n",
    "from IPython.display import display\n",
    "import numpy as np\n",
    "import torch\n",
    "\n",
    "import torch.nn as nn\n",
    "import torch.nn.parallel\n",
    "import torch.backends.cudnn as cudnn\n",
    "import torch.optim as optim\n",
    "import torchvision\n",
    "import torchvision.transforms as transforms\n",
    "from torchvision.utils import save_image\n",
    "from tqdm import tqdm\n",
    "from torch.utils.tensorboard import SummaryWriter\n",
    "from PIL import Image\n",
    "import uuid\n",
    "\n",
    "import ignite\n",
    "from ignite.metrics import FID\n",
    "\n",
    "from modules import UNet\n",
    "from modules import UNet_2xUD\n",
    "from modules import UNet_2xUD_halfchannels\n",
    "\n",
    "\n",
    "seed = 449\n",
    "random.seed(seed)\n",
    "torch.manual_seed(seed)\n",
    "num_images = 500\n",
    "device = torch.device(\"cuda\" if (torch.cuda.is_available()) else \"cpu\")"
   ]
  },
  {
   "cell_type": "code",
   "execution_count": 4,
   "metadata": {
    "colab": {
     "base_uri": "https://localhost:8080/"
    },
    "id": "uiaGsdpWqG_X",
    "outputId": "fcdf545f-bec3-48b0-ecca-afc1e12833f5"
   },
   "outputs": [
    {
     "data": {
      "text/plain": [
       "True"
      ]
     },
     "execution_count": 4,
     "metadata": {},
     "output_type": "execute_result"
    }
   ],
   "source": [
    "torch.cuda.is_available()"
   ]
  },
  {
   "cell_type": "markdown",
   "metadata": {
    "id": "LixnYpmCfx96"
   },
   "source": [
    "## Added code needed from CatDiffusion"
   ]
  },
  {
   "cell_type": "code",
   "execution_count": 5,
   "metadata": {
    "id": "DipOJVL6wdU-"
   },
   "outputs": [],
   "source": [
    "def view_some_images(num_images, output_folder):\n",
    "  to_tensor = transforms.ToTensor()\n",
    "  for i in range(num_images):\n",
    "    image = Image.open(os.path.join(output_folder, f\"{i}.png\"))\n",
    "    image_tensor = to_tensor(image)\n",
    "    plt.figure()\n",
    "    plt.imshow(np.transpose(image_tensor, (1, 2, 0)))"
   ]
  },
  {
   "cell_type": "code",
   "execution_count": 6,
   "metadata": {
    "id": "yJ8fuQjLfx96"
   },
   "outputs": [],
   "source": [
    "def save_images(images, path, **kwargs):\n",
    "    # grid = torchvision.utils.make_grid(images, **kwargs)\n",
    "    ndarr = images.permute(1, 2, 0).to('cpu').numpy()\n",
    "    im = Image.fromarray(ndarr)\n",
    "    im.save(path)"
   ]
  },
  {
   "cell_type": "code",
   "execution_count": 7,
   "metadata": {
    "id": "oWdHwEO9fx96"
   },
   "outputs": [],
   "source": [
    "class Diffusion:\n",
    "    # diffusion tools: noise schedule, forward process (noising), sampling images\n",
    "    def __init__(self, noise_steps=1000, beta_0=1e-4, beta_T=0.02, img_size=32, device=\"cuda\", schedule=\"cosine\"):\n",
    "        self.noise_steps = noise_steps\n",
    "        self.beta_0 = beta_0\n",
    "        self.beta_T = beta_T\n",
    "        self.img_size = img_size\n",
    "        self.device = device\n",
    "\n",
    "        self.beta = self.noise_schedule(schedule).to(device)\n",
    "        self.alpha = 1. - self.beta\n",
    "        self.alpha_hat = torch.cumprod(self.alpha, dim=0)\n",
    "\n",
    "        self.flag = 0\n",
    "        self.fixed = None\n",
    "    \n",
    "    def noise_schedule(self, type):\n",
    "        \"\"\"\n",
    "        Creates the noise schedule used by the diffusion class\n",
    "\n",
    "        Parameters\n",
    "        ----------\n",
    "        type : {\"linear\", \"cosine\"}\n",
    "            The type of schedule to be created.\n",
    "        \"\"\"\n",
    "\n",
    "        if type == \"linear\":\n",
    "            return torch.linspace(self.beta_0, self.beta_T, self.noise_steps)\n",
    "        elif type == \"cosine\":\n",
    "            # from https://openreview.net/forum?id=-NEXDKk8gZ and https://github.com/lucidrains/denoising-diffusion-pytorch/\n",
    "            s = 0.008\n",
    "            t = torch.linspace(0, self.noise_steps, steps=self.noise_steps+1)\n",
    "            f = torch.cos(((t / self.noise_steps) + s) / (1 + s) * (np.pi / 2)) ** 2\n",
    "            alphas_hat = f / f[0]\n",
    "            betas = 1 - (alphas_hat[1:] / alphas_hat[:-1])\n",
    "            return torch.clip(betas, 0, self.beta_T)\n",
    "    \n",
    "    def noise_images(self, x, t):\n",
    "        \"\"\"\n",
    "        Noises image using the reparameterization trick to noise in a single step.\n",
    "\n",
    "        Returns\n",
    "        ----------\n",
    "        Tensor\n",
    "            Image noised to timestep t\n",
    "        epsilon : Tensor\n",
    "            Noise added to image\n",
    "        \"\"\"\n",
    "\n",
    "        sqrt_alpha_hat = torch.sqrt(self.alpha_hat[t])[:, None, None, None] #TODO why this dimension?\n",
    "        sqrt_one_minus_alpha_hat = torch.sqrt(1. - self.alpha_hat[t])[:, None, None, None]\n",
    "        epsilon = torch.randn_like(x)\n",
    "        return sqrt_alpha_hat * x + sqrt_one_minus_alpha_hat * epsilon, epsilon\n",
    "\n",
    "    def sample_timesteps(self, n):\n",
    "        return torch.randint(low=1, high=self.noise_steps, size=(n,))\n",
    "    \n",
    "    def sample(self, model, n, disable_bar=True, out=None, fixed=False):\n",
    "        # n: number of images to sample\n",
    "        # algorithm 2 from DDPM paper\n",
    "\n",
    "        model.eval()\n",
    "        with torch.no_grad():\n",
    "            # generate random vector as starting point, or use fixed noise\n",
    "            if (fixed == False):\n",
    "                x = torch.randn((n, 3, self.img_size, self.img_size)).to(self.device)\n",
    "            else:\n",
    "                if self.flag == 0:\n",
    "                    self.fixed = torch.randn((n, 3, self.img_size, self.img_size)).to(self.device)\n",
    "                    self.flag = 1\n",
    "                x = self.fixed\n",
    "            # run through all steps to denoise image\n",
    "            for i in tqdm(reversed(range(1, self.noise_steps)), disable=disable_bar):\n",
    "                t = (torch.ones(n) * i).long().to(self.device)\n",
    "                predicted_noise = model(x, t)\n",
    "                alpha = self.alpha[t][:, None, None, None]\n",
    "                alpha_hat = self.alpha_hat[t][:, None, None, None]\n",
    "                beta = self.beta[t][:, None, None, None]\n",
    "\n",
    "                if i > 1:\n",
    "                    # TODO: why are we adding noise for backwards process?\n",
    "                    noise = torch.randn_like(x)\n",
    "                else:\n",
    "                    # don't add noise for the last step\n",
    "                    noise = torch.zeros_like(x)\n",
    "\n",
    "                # denoise image using algorithm 2 step 4\n",
    "                x = 1 / torch.sqrt(alpha) * (x - ((1-alpha) / (torch.sqrt(1 - alpha_hat))) * predicted_noise) + torch.sqrt(beta) * noise\n",
    "\n",
    "                # save in array if given\n",
    "                if out is not None:\n",
    "                    generated = (x.clamp(-1, 1) + 1) / 2\n",
    "                    generated = (generated*255).type(torch.uint8)\n",
    "                    generated = torchvision.utils.make_grid(generated).cpu().numpy()\n",
    "                    out.append(generated)\n",
    "        model.train()\n",
    "        x = (x.clamp(-1, 1) + 1) / 2\n",
    "        x = (x*255).type(torch.uint8)\n",
    "        return x"
   ]
  },
  {
   "cell_type": "code",
   "execution_count": 8,
   "metadata": {
    "id": "36ph2s-yWy0R"
   },
   "outputs": [],
   "source": [
    "def imshow(img):\n",
    "    img = img / 2 + 0.5     # unnormalize\n",
    "    npimg = img.numpy()\n",
    "    plt.imshow(np.transpose(npimg, (1, 2, 0)))\n",
    "    plt.show()"
   ]
  },
  {
   "cell_type": "markdown",
   "metadata": {
    "id": "aGyKVbaaTsCX"
   },
   "source": [
    "## Importing test dataset images (class cat)"
   ]
  },
  {
   "cell_type": "code",
   "execution_count": 9,
   "metadata": {},
   "outputs": [
    {
     "name": "stdout",
     "output_type": "stream",
     "text": [
      "Requirement already satisfied: torch in /opt/conda/lib/python3.7/site-packages (1.13.1)\n",
      "Requirement already satisfied: torchvision in /opt/conda/lib/python3.7/site-packages (0.14.1)\n",
      "Requirement already satisfied: typing-extensions in /opt/conda/lib/python3.7/site-packages (from torch) (4.5.0)\n",
      "Requirement already satisfied: nvidia-cuda-runtime-cu11==11.7.99 in /opt/conda/lib/python3.7/site-packages (from torch) (11.7.99)\n",
      "Requirement already satisfied: nvidia-cudnn-cu11==8.5.0.96 in /opt/conda/lib/python3.7/site-packages (from torch) (8.5.0.96)\n",
      "Collecting nvidia-cublas-cu11==11.10.3.66 (from torch)\n",
      "  Using cached nvidia_cublas_cu11-11.10.3.66-py3-none-manylinux1_x86_64.whl (317.1 MB)\n",
      "Requirement already satisfied: nvidia-cuda-nvrtc-cu11==11.7.99 in /opt/conda/lib/python3.7/site-packages (from torch) (11.7.99)\n",
      "Requirement already satisfied: setuptools in /opt/conda/lib/python3.7/site-packages (from nvidia-cublas-cu11==11.10.3.66->torch) (67.7.2)\n",
      "Requirement already satisfied: wheel in /opt/conda/lib/python3.7/site-packages (from nvidia-cublas-cu11==11.10.3.66->torch) (0.40.0)\n",
      "Requirement already satisfied: numpy in /opt/conda/lib/python3.7/site-packages (from torchvision) (1.21.6)\n",
      "Requirement already satisfied: requests in /opt/conda/lib/python3.7/site-packages (from torchvision) (2.28.2)\n",
      "Requirement already satisfied: pillow!=8.3.*,>=5.3.0 in /opt/conda/lib/python3.7/site-packages (from torchvision) (9.5.0)\n",
      "Requirement already satisfied: charset-normalizer<4,>=2 in /opt/conda/lib/python3.7/site-packages (from requests->torchvision) (2.1.1)\n",
      "Requirement already satisfied: idna<4,>=2.5 in /opt/conda/lib/python3.7/site-packages (from requests->torchvision) (3.4)\n",
      "Requirement already satisfied: urllib3<1.27,>=1.21.1 in /opt/conda/lib/python3.7/site-packages (from requests->torchvision) (1.26.15)\n",
      "Requirement already satisfied: certifi>=2017.4.17 in /opt/conda/lib/python3.7/site-packages (from requests->torchvision) (2022.12.7)\n",
      "Installing collected packages: nvidia-cublas-cu11\n",
      "Successfully installed nvidia-cublas-cu11-11.10.3.66\n",
      "Note: you may need to restart the kernel to use updated packages.\n"
     ]
    }
   ],
   "source": [
    "pip install --upgrade torch torchvision"
   ]
  },
  {
   "cell_type": "code",
   "execution_count": 10,
   "metadata": {
    "colab": {
     "base_uri": "https://localhost:8080/",
     "height": 1000
    },
    "id": "2rOlU0JwwfGO",
    "outputId": "1fdb7aa0-2741-4dd0-b83c-f557418be411"
   },
   "outputs": [
    {
     "name": "stdout",
     "output_type": "stream",
     "text": [
      "Downloading https://www.cs.toronto.edu/~kriz/cifar-10-python.tar.gz to ./data/cifar-10-python.tar.gz\n"
     ]
    },
    {
     "data": {
      "application/vnd.jupyter.widget-view+json": {
       "model_id": "3a57bf8de31d41b5b325ba1d04c02061",
       "version_major": 2,
       "version_minor": 0
      },
      "text/plain": [
       "  0%|          | 0/170498071 [00:00<?, ?it/s]"
      ]
     },
     "metadata": {},
     "output_type": "display_data"
    },
    {
     "name": "stdout",
     "output_type": "stream",
     "text": [
      "Extracting ./data/cifar-10-python.tar.gz to ./data\n"
     ]
    },
    {
     "name": "stderr",
     "output_type": "stream",
     "text": [
      "/opt/conda/lib/python3.7/site-packages/torch/utils/data/dataloader.py:557: UserWarning: This DataLoader will create 2 worker processes in total. Our suggested max number of worker in current system is 1, which is smaller than what this DataLoader is going to create. Please be aware that excessive worker creation might get DataLoader running slow or even freeze, lower the worker number to avoid potential slowness/freeze if necessary.\n",
      "  cpuset_checked))\n"
     ]
    },
    {
     "data": {
      "image/png": "[encoded data removed]",
      "text/plain": [
       "<Figure size 640x480 with 1 Axes>"
      ]
     },
     "metadata": {},
     "output_type": "display_data"
    },
    {
     "data": {
      "image/png": "[encoded data removed]",
      "text/plain": [
       "<Figure size 640x480 with 1 Axes>"
      ]
     },
     "metadata": {},
     "output_type": "display_data"
    },
    {
     "data": {
      "image/png": "[encoded data removed]",
      "text/plain": [
       "<Figure size 640x480 with 1 Axes>"
      ]
     },
     "metadata": {},
     "output_type": "display_data"
    }
   ],
   "source": [
    "batch_size = 1\n",
    "transform = transforms.Compose(\n",
    "    [transforms.ToTensor(),\n",
    "     transforms.Normalize((0.5, 0.5, 0.5), (0.5, 0.5, 0.5))])\n",
    "testset = torchvision.datasets.CIFAR10(root='./data', train=False, download=True, transform=transform)\n",
    "testloader = torch.utils.data.DataLoader(testset, batch_size=batch_size, shuffle=False, num_workers=2)\n",
    "cat_idxs = np.where((np.array(testset.targets) == 3))[0]\n",
    "catset = torch.utils.data.Subset(testset, cat_idxs)\n",
    "cattestloader = torch.utils.data.DataLoader(catset, batch_size=batch_size, shuffle=False, num_workers=2)\n",
    "\n",
    "\n",
    "iterator = iter(cattestloader)\n",
    "images, _ = next(iterator)\n",
    "imshow(torchvision.utils.make_grid(images.squeeze()))\n",
    "images, _ = next(iterator)\n",
    "imshow(torchvision.utils.make_grid(images.squeeze()))\n",
    "\n",
    "images, _ = next(iter(iterator))\n",
    "imshow(torchvision.utils.make_grid(images.squeeze()))\n"
   ]
  },
  {
   "cell_type": "code",
   "execution_count": 11,
   "metadata": {
    "colab": {
     "base_uri": "https://localhost:8080/"
    },
    "id": "hCSXx514V5AE",
    "outputId": "5ae98421-a180-4adf-d55b-11b40f9e9e6a"
   },
   "outputs": [
    {
     "name": "stdout",
     "output_type": "stream",
     "text": [
      "1000\n"
     ]
    }
   ],
   "source": [
    "l = len(cattestloader)\n",
    "print(l)"
   ]
  },
  {
   "cell_type": "markdown",
   "metadata": {
    "id": "vLJveNFYntIa"
   },
   "source": [
    "### Save images from test dataset"
   ]
  },
  {
   "cell_type": "code",
   "execution_count": 12,
   "metadata": {
    "id": "-fnYsvVaWYip"
   },
   "outputs": [],
   "source": [
    "import shutil"
   ]
  },
  {
   "cell_type": "code",
   "execution_count": 19,
   "metadata": {
    "id": "Il-v7zJOWVCH"
   },
   "outputs": [],
   "source": [
    "test_folder = \"test_images\"\n",
    "output_folder = os.path.join(\"output/images1000_FID/\", test_folder)\n",
    "if os.path.exists(output_folder):\n",
    "    shutil.rmtree(output_folder)"
   ]
  },
  {
   "cell_type": "code",
   "execution_count": 20,
   "metadata": {
    "colab": {
     "base_uri": "https://localhost:8080/",
     "height": 406
    },
    "id": "0I08JI-FVpQ1",
    "outputId": "7422eecb-e707-4430-89c5-420e08f84015"
   },
   "outputs": [
    {
     "data": {
      "image/png": "[encoded data removed]",
      "text/plain": [
       "<Figure size 640x480 with 1 Axes>"
      ]
     },
     "metadata": {},
     "output_type": "display_data"
    }
   ],
   "source": [
    "test_folder = \"test_images\"\n",
    "output_folder = os.path.join(\"output/images1000_FID/\", test_folder)\n",
    "os.makedirs(output_folder, exist_ok=True)\n",
    "\n",
    "img_grid_images = []\n",
    "for i, (images, _) in enumerate(cattestloader):\n",
    "  images = images.squeeze()\n",
    "  if i<1000:\n",
    "    images = images/2 + 0.5\n",
    "    img_grid_images.append(images)\n",
    "    image_path = os.path.join(output_folder, f\"{i}.png\")\n",
    "    save_image(images, image_path)\n",
    "\n",
    "img_grid = torchvision.utils.make_grid(img_grid_images)\n",
    "ndarr = img_grid.permute(1, 2, 0).cpu().numpy()\n",
    "plt.figure()\n",
    "plt.axis(\"off\")\n",
    "plt.imshow(ndarr)\n",
    "plt.show()"
   ]
  },
  {
   "cell_type": "code",
   "execution_count": 21,
   "metadata": {
    "colab": {
     "base_uri": "https://localhost:8080/"
    },
    "id": "OANgUqFg6yyE",
    "outputId": "72cad19d-a797-454d-eb6d-1599bc446fee"
   },
   "outputs": [
    {
     "name": "stdout",
     "output_type": "stream",
     "text": [
      "1000\n"
     ]
    }
   ],
   "source": [
    "print(len([name for name in os.listdir(os.path.join(\"./output/images1000_FID/test_images\"))]))"
   ]
  },
  {
   "cell_type": "markdown",
   "metadata": {
    "id": "Di2ELy_cRJpv"
   },
   "source": [
    "## Saving data train dataset"
   ]
  },
  {
   "cell_type": "code",
   "execution_count": 22,
   "metadata": {
    "colab": {
     "base_uri": "https://localhost:8080/",
     "height": 860
    },
    "id": "0JiHzV6jRIRU",
    "outputId": "ded46626-c14e-4e0e-a896-0fc6c4775304"
   },
   "outputs": [
    {
     "name": "stdout",
     "output_type": "stream",
     "text": [
      "Files already downloaded and verified\n"
     ]
    },
    {
     "data": {
      "image/png": "[encoded data removed]",
      "text/plain": [
       "<Figure size 640x480 with 1 Axes>"
      ]
     },
     "metadata": {},
     "output_type": "display_data"
    },
    {
     "data": {
      "image/png": "[encoded data removed]",
      "text/plain": [
       "<Figure size 640x480 with 1 Axes>"
      ]
     },
     "metadata": {},
     "output_type": "display_data"
    }
   ],
   "source": [
    "batch_size = 1\n",
    "transform = transforms.Compose(\n",
    "    [transforms.ToTensor(),\n",
    "     transforms.Normalize((0.5, 0.5, 0.5), (0.5, 0.5, 0.5))])\n",
    "testset = torchvision.datasets.CIFAR10(root='./data', train=True, download=True, transform=transform)\n",
    "trainloader = torch.utils.data.DataLoader(testset, batch_size=batch_size, shuffle=True, num_workers=2)\n",
    "cat_idxs = np.where((np.array(testset.targets) == 3))[0]\n",
    "catset = torch.utils.data.Subset(testset, cat_idxs)\n",
    "cattrainloader = torch.utils.data.DataLoader(catset, batch_size=batch_size, shuffle=False, num_workers=2)\n",
    "\n",
    "\n",
    "iterator2 = iter(cattrainloader)\n",
    "images, _ = next(iterator2)\n",
    "imshow(torchvision.utils.make_grid(images))\n",
    "images, _ = next(iterator2)\n",
    "imshow(torchvision.utils.make_grid(images))"
   ]
  },
  {
   "cell_type": "code",
   "execution_count": 23,
   "metadata": {
    "colab": {
     "base_uri": "https://localhost:8080/"
    },
    "id": "qFsz1I2vRIRV",
    "outputId": "24e2e630-a1b3-4ae3-8178-ddf9f5b176fa"
   },
   "outputs": [
    {
     "name": "stdout",
     "output_type": "stream",
     "text": [
      "5000\n"
     ]
    }
   ],
   "source": [
    "l = len(cattrainloader)\n",
    "print(l)"
   ]
  },
  {
   "cell_type": "markdown",
   "metadata": {
    "id": "sGwX1X4NRIRW"
   },
   "source": [
    "### Save images from train dataset"
   ]
  },
  {
   "cell_type": "code",
   "execution_count": 24,
   "metadata": {
    "colab": {
     "base_uri": "https://localhost:8080/",
     "height": 406
    },
    "id": "jrLxuQUQRIRW",
    "outputId": "be56d6c5-c724-48dd-d273-a8aeef10a082"
   },
   "outputs": [
    {
     "data": {
      "image/png": "[encoded data removed]",
      "text/plain": [
       "<Figure size 640x480 with 1 Axes>"
      ]
     },
     "metadata": {},
     "output_type": "display_data"
    }
   ],
   "source": [
    "test_folder = \"train_images\"\n",
    "output_folder = os.path.join(\"output/images1000_FID/\", test_folder)\n",
    "if os.path.exists(output_folder):\n",
    "    shutil.rmtree(output_folder)\n",
    "os.makedirs(output_folder, exist_ok=True)\n",
    "\n",
    "img_grid_images2 = []\n",
    "for i, (images, _) in enumerate(cattrainloader):\n",
    "  images = images.squeeze()\n",
    "  if i<1000:\n",
    "    images = images/2 + 0.5\n",
    "    img_grid_images2.append(images)\n",
    "    image_path = os.path.join(output_folder, f\"{i}.png\")\n",
    "    save_image(images, image_path)\n",
    "\n",
    "img_grid2 = torchvision.utils.make_grid(img_grid_images2)\n",
    "ndarr = img_grid.permute(1, 2, 0).cpu().numpy()\n",
    "plt.figure()\n",
    "plt.axis(\"off\")\n",
    "plt.imshow(ndarr)\n",
    "plt.show()"
   ]
  },
  {
   "cell_type": "code",
   "execution_count": 25,
   "metadata": {
    "colab": {
     "base_uri": "https://localhost:8080/"
    },
    "id": "Zer9JQRYrfe6",
    "outputId": "167195b3-e368-479b-975c-cd6bc328fa36"
   },
   "outputs": [
    {
     "name": "stdout",
     "output_type": "stream",
     "text": [
      "1000\n"
     ]
    }
   ],
   "source": [
    "#print(os.listdir(\"./output\"))\n",
    "print(len([name for name in os.listdir(os.path.join(\"./output/images1000_FID/train_images\"))]))"
   ]
  },
  {
   "cell_type": "code",
   "execution_count": 26,
   "metadata": {
    "colab": {
     "base_uri": "https://localhost:8080/"
    },
    "id": "QR_DXXxnW3qo",
    "outputId": "228e9aac-ba33-4fab-c23b-fa69653978cd"
   },
   "outputs": [
    {
     "name": "stdout",
     "output_type": "stream",
     "text": [
      "Collecting pytorch-fid\n",
      "  Downloading pytorch_fid-0.3.0-py3-none-any.whl (15 kB)\n",
      "Requirement already satisfied: numpy in /opt/conda/lib/python3.7/site-packages (from pytorch-fid) (1.21.6)\n",
      "Requirement already satisfied: pillow in /opt/conda/lib/python3.7/site-packages (from pytorch-fid) (9.5.0)\n",
      "Requirement already satisfied: scipy in /opt/conda/lib/python3.7/site-packages (from pytorch-fid) (1.7.3)\n",
      "Requirement already satisfied: torch>=1.0.1 in /opt/conda/lib/python3.7/site-packages (from pytorch-fid) (1.13.1)\n",
      "Requirement already satisfied: torchvision>=0.2.2 in /opt/conda/lib/python3.7/site-packages (from pytorch-fid) (0.14.1)\n",
      "Requirement already satisfied: typing-extensions in /opt/conda/lib/python3.7/site-packages (from torch>=1.0.1->pytorch-fid) (4.5.0)\n",
      "Requirement already satisfied: nvidia-cuda-runtime-cu11==11.7.99 in /opt/conda/lib/python3.7/site-packages (from torch>=1.0.1->pytorch-fid) (11.7.99)\n",
      "Requirement already satisfied: nvidia-cudnn-cu11==8.5.0.96 in /opt/conda/lib/python3.7/site-packages (from torch>=1.0.1->pytorch-fid) (8.5.0.96)\n",
      "Requirement already satisfied: nvidia-cublas-cu11==11.10.3.66 in /opt/conda/lib/python3.7/site-packages (from torch>=1.0.1->pytorch-fid) (11.10.3.66)\n",
      "Requirement already satisfied: nvidia-cuda-nvrtc-cu11==11.7.99 in /opt/conda/lib/python3.7/site-packages (from torch>=1.0.1->pytorch-fid) (11.7.99)\n",
      "Requirement already satisfied: setuptools in /opt/conda/lib/python3.7/site-packages (from nvidia-cublas-cu11==11.10.3.66->torch>=1.0.1->pytorch-fid) (67.7.2)\n",
      "Requirement already satisfied: wheel in /opt/conda/lib/python3.7/site-packages (from nvidia-cublas-cu11==11.10.3.66->torch>=1.0.1->pytorch-fid) (0.40.0)\n",
      "Requirement already satisfied: requests in /opt/conda/lib/python3.7/site-packages (from torchvision>=0.2.2->pytorch-fid) (2.28.2)\n",
      "Requirement already satisfied: charset-normalizer<4,>=2 in /opt/conda/lib/python3.7/site-packages (from requests->torchvision>=0.2.2->pytorch-fid) (2.1.1)\n",
      "Requirement already satisfied: idna<4,>=2.5 in /opt/conda/lib/python3.7/site-packages (from requests->torchvision>=0.2.2->pytorch-fid) (3.4)\n",
      "Requirement already satisfied: urllib3<1.27,>=1.21.1 in /opt/conda/lib/python3.7/site-packages (from requests->torchvision>=0.2.2->pytorch-fid) (1.26.15)\n",
      "Requirement already satisfied: certifi>=2017.4.17 in /opt/conda/lib/python3.7/site-packages (from requests->torchvision>=0.2.2->pytorch-fid) (2022.12.7)\n",
      "Installing collected packages: pytorch-fid\n",
      "Successfully installed pytorch-fid-0.3.0\n",
      "Note: you may need to restart the kernel to use updated packages.\n"
     ]
    }
   ],
   "source": [
    "pip install pytorch-fid"
   ]
  },
  {
   "cell_type": "code",
   "execution_count": 31,
   "metadata": {
    "colab": {
     "base_uri": "https://localhost:8080/"
    },
    "id": "ck_XMqasW3qp",
    "outputId": "36b5b6ee-eb52-474c-bab4-d98afce4b044"
   },
   "outputs": [
    {
     "name": "stdout",
     "output_type": "stream",
     "text": [
      "  0%|                                                    | 0/20 [00:00<?, ?it/s]\n",
      "Traceback (most recent call last):\n",
      "  File \"/opt/conda/lib/python3.7/runpy.py\", line 193, in _run_module_as_main\n",
      "    \"__main__\", mod_spec)\n",
      "  File \"/opt/conda/lib/python3.7/runpy.py\", line 85, in _run_code\n",
      "    exec(code, run_globals)\n",
      "  File \"/opt/conda/lib/python3.7/site-packages/pytorch_fid/__main__.py\", line 3, in <module>\n",
      "    pytorch_fid.fid_score.main()\n",
      "  File \"/opt/conda/lib/python3.7/site-packages/pytorch_fid/fid_score.py\", line 317, in main\n",
      "    num_workers)\n",
      "  File \"/opt/conda/lib/python3.7/site-packages/pytorch_fid/fid_score.py\", line 260, in calculate_fid_given_paths\n",
      "    dims, device, num_workers)\n",
      "  File \"/opt/conda/lib/python3.7/site-packages/pytorch_fid/fid_score.py\", line 244, in compute_statistics_of_path\n",
      "    dims, device, num_workers)\n",
      "  File \"/opt/conda/lib/python3.7/site-packages/pytorch_fid/fid_score.py\", line 228, in calculate_activation_statistics\n",
      "    act = get_activations(files, model, batch_size, dims, device, num_workers)\n",
      "  File \"/opt/conda/lib/python3.7/site-packages/pytorch_fid/fid_score.py\", line 132, in get_activations\n",
      "    for batch in tqdm(dataloader):\n",
      "  File \"/opt/conda/lib/python3.7/site-packages/tqdm/std.py\", line 1195, in __iter__\n",
      "    for obj in iterable:\n",
      "  File \"/opt/conda/lib/python3.7/site-packages/torch/utils/data/dataloader.py\", line 435, in __iter__\n",
      "    return self._get_iterator()\n",
      "  File \"/opt/conda/lib/python3.7/site-packages/torch/utils/data/dataloader.py\", line 381, in _get_iterator\n",
      "    return _MultiProcessingDataLoaderIter(self)\n",
      "  File \"/opt/conda/lib/python3.7/site-packages/torch/utils/data/dataloader.py\", line 1034, in __init__\n",
      "    w.start()\n",
      "  File \"/opt/conda/lib/python3.7/multiprocessing/process.py\", line 112, in start\n",
      "    self._popen = self._Popen(self)\n",
      "  File \"/opt/conda/lib/python3.7/multiprocessing/context.py\", line 223, in _Popen\n",
      "    return _default_context.get_context().Process._Popen(process_obj)\n",
      "  File \"/opt/conda/lib/python3.7/multiprocessing/context.py\", line 277, in _Popen\n",
      "    return Popen(process_obj)\n",
      "  File \"/opt/conda/lib/python3.7/multiprocessing/popen_fork.py\", line 20, in __init__\n",
      "    self._launch(process_obj)\n",
      "  File \"/opt/conda/lib/python3.7/multiprocessing/popen_fork.py\", line 70, in _launch\n",
      "    self.pid = os.fork()\n",
      "OSError: [Errno 12] Cannot allocate memory\n"
     ]
    }
   ],
   "source": [
    "!python -m pytorch_fid output/images1000_FID/train_images output/images1000_FID/test_images\n",
    "#should be ~0"
   ]
  },
  {
   "cell_type": "markdown",
   "metadata": {
    "id": "qa_KO2k6nE0o"
   },
   "source": [
    "# FID for 2xUD_halfchannels"
   ]
  },
  {
   "cell_type": "code",
   "execution_count": null,
   "metadata": {
    "id": "Bel87tRqfx95"
   },
   "outputs": [],
   "source": [
    "import types\n",
    "args = types.SimpleNamespace()\n",
    "args.run_name = \"1024ep-16batch-3e4lr-UNet_2xUD_halfchannels\"\n",
    "args.epochs = 1024\n",
    "args.batch_size = 16\n",
    "args.image_size = 32\n",
    "if torch.cuda.is_available():\n",
    "  args.device = \"cuda\"\n",
    "else:\n",
    "  args.device = \"cpu\"\n",
    "args.lr = 3e-4\n",
    "args.model = \"UNet_2xUD_halfchannels\""
   ]
  },
  {
   "cell_type": "code",
   "execution_count": null,
   "metadata": {
    "id": "vBzXsW5ffx98"
   },
   "outputs": [],
   "source": [
    "# original structure\n",
    "\n",
    "\n",
    "path = os.path.join(\"models/CatDiffusion/\", args.run_name, \"ckpt.pt\")\n",
    "if (args.model == \"UNet\"):\n",
    "    model = UNet().to(args.device)\n",
    "elif (args.model == \"UNet_2xUD\"):\n",
    "    model = UNet_2xUD().to(args.device)\n",
    "elif (args.model == \"UNet_2xUD_halfchannels\"):\n",
    "        model = UNet_2xUD_halfchannels(device=args.device).to(args.device)\n",
    "\n",
    "\n",
    "# structure reduced to 2x up down blocks\n",
    "# args.run_name = \"1e4lr\"\n",
    "# path = os.path.join(\"models/CatDiffusion/\", args.run_name, \"ckpt.pt\")\n",
    "# model = UNet_2xUD().to(\"cuda\")\n",
    "\n",
    "if torch.cuda.is_available():\n",
    "  model.load_state_dict(torch.load(path))\n",
    "else:\n",
    "  model.load_state_dict(torch.load(path, map_location=torch.device('cpu')))\n",
    "diffusion = Diffusion(img_size=args.image_size, device=args.device)\n",
    "\n"
   ]
  },
  {
   "cell_type": "markdown",
   "metadata": {
    "id": "vKe2UVmEoPhc"
   },
   "source": [
    "### Saving Gen images to folder \"halfChannel_images\""
   ]
  },
  {
   "cell_type": "code",
   "execution_count": null,
   "metadata": {
    "colab": {
     "base_uri": "https://localhost:8080/",
     "height": 493
    },
    "id": "F1WRBXyRHwX_",
    "outputId": "197d586f-41ff-4631-8115-ce8675d79f33"
   },
   "outputs": [],
   "source": [
    "\n",
    "args.folder_name = \"halfChannel_images\"\n",
    "model.load_state_dict(torch.load(path))\n",
    "diffusion = Diffusion(img_size=args.image_size, device=\"cuda\")\n",
    "image_batches = []\n",
    "for i in range(5):\n",
    "  iarr = []\n",
    "  image_batches.append(diffusion.sample(model, n=100, disable_bar=False, out=iarr))\n",
    "images_batches = tuple(image_batches)\n",
    "sampled_images = torch.cat(image_batches, dim=0)\n",
    "img_grid = torchvision.utils.make_grid(sampled_images)\n",
    "\n",
    "ndarr = img_grid.permute(1, 2, 0).cpu().numpy()\n",
    "plt.figure()\n",
    "plt.axis(\"off\")\n",
    "plt.imshow(ndarr)\n",
    "plt.show()\n"
   ]
  },
  {
   "cell_type": "code",
   "execution_count": null,
   "metadata": {
    "colab": {
     "base_uri": "https://localhost:8080/",
     "height": 406
    },
    "id": "TKcVH2Mxcp8_",
    "outputId": "ae19a579-f17a-4ae8-e394-b7e3bd52efc2"
   },
   "outputs": [],
   "source": [
    "\n",
    "# Create the output folder if it doesn't exist\n",
    "output_folder = os.path.join(\"output/images_FID/\", args.folder_name)\n",
    "os.makedirs(output_folder, exist_ok=True)\n",
    "\n",
    "# Save each image individually\n",
    "for i, image in enumerate(sampled_images):\n",
    "    if i<num_images:\n",
    "      #print(image)\n",
    "      image_path = os.path.join(output_folder, f\"{i}.png\")\n",
    "      save_images(image, image_path)\n",
    "    \"\"\"\n",
    "    if i<5:\n",
    "      plt.figure()\n",
    "      plt.imshow(image.permute(1,2,0).to('cpu').numpy())\n",
    "    \"\"\"\n",
    "\n",
    "# Display the image grid\n",
    "img_grid = torchvision.utils.make_grid(sampled_images)\n",
    "ndarr = img_grid.permute(1, 2, 0).cpu().numpy()\n",
    "plt.figure()\n",
    "plt.axis(\"off\")\n",
    "plt.imshow(ndarr)\n",
    "plt.show()\n"
   ]
  },
  {
   "cell_type": "code",
   "execution_count": null,
   "metadata": {
    "colab": {
     "base_uri": "https://localhost:8080/",
     "height": 1000
    },
    "id": "L0LZ2HVfwiUS",
    "outputId": "eacedcad-afe4-4298-b1cd-0f6aa1838016"
   },
   "outputs": [],
   "source": [
    "view_some_images(5, \"output/images_FID/halfChannel_images\")"
   ]
  },
  {
   "cell_type": "code",
   "execution_count": null,
   "metadata": {
    "colab": {
     "base_uri": "https://localhost:8080/"
    },
    "id": "0ykDKk45FtFz",
    "outputId": "65e3b9b7-1c5b-4072-8f25-1528b1161d00"
   },
   "outputs": [],
   "source": [
    "print(len([name for name in os.listdir(os.path.join(\"output/images_FID/\", args.folder_name))]))"
   ]
  },
  {
   "cell_type": "markdown",
   "metadata": {
    "id": "krXRtxOyoY2L"
   },
   "source": [
    "### Doing the FID"
   ]
  },
  {
   "cell_type": "code",
   "execution_count": null,
   "metadata": {
    "colab": {
     "base_uri": "https://localhost:8080/"
    },
    "id": "IbdLUxiEwf3p",
    "outputId": "5ea75041-f535-4e83-8663-0a2c4b0ea7b7"
   },
   "outputs": [],
   "source": [
    "pip install pytorch-fid"
   ]
  },
  {
   "cell_type": "code",
   "execution_count": null,
   "metadata": {
    "colab": {
     "base_uri": "https://localhost:8080/"
    },
    "id": "p3R_0hj_XNiF",
    "outputId": "496837f7-c3d6-4a74-8f52-43ce1c0dedf3"
   },
   "outputs": [],
   "source": [
    "!python -m pytorch_fid output/images_FID/halfChannel_images output/images_FID/test_images"
   ]
  },
  {
   "cell_type": "markdown",
   "metadata": {
    "id": "MdRZbaAVnfOZ"
   },
   "source": [
    "# FID for UNet_2xUD"
   ]
  },
  {
   "cell_type": "code",
   "execution_count": null,
   "metadata": {
    "id": "3z6xh1IMpsG8"
   },
   "outputs": [],
   "source": [
    "args = types.SimpleNamespace()\n",
    "args.run_name = \"1024ep-16batch-3e4lr-UNet_2xUD\"\n",
    "args.epochs = 1024\n",
    "args.batch_size = 16\n",
    "args.image_size = 32\n",
    "if torch.cuda.is_available():\n",
    "  args.device = \"cuda\"\n",
    "else:\n",
    "  args.device = \"cpu\"\n",
    "args.lr = 3e-4\n",
    "args.model = \"UNet_2xUD\""
   ]
  },
  {
   "cell_type": "code",
   "execution_count": null,
   "metadata": {
    "id": "axZ8mjY0uBcQ"
   },
   "outputs": [],
   "source": [
    "path = os.path.join(\"models/CatDiffusion/\", args.run_name, \"ckpt.pt\")\n",
    "if (args.model == \"UNet\"):\n",
    "    model = UNet(device=args.device).to(args.device)\n",
    "elif (args.model == \"UNet_2xUD\"):\n",
    "    model = UNet_2xUD(device=args.device).to(args.device)\n",
    "elif (args.model == \"UNet_2xUD_halfchannels\"):\n",
    "        model = UNet_2xUD_halfchannels(device=args.device).to(args.device)\n",
    "\n",
    "if torch.cuda.is_available():\n",
    "  model.load_state_dict(torch.load(path))\n",
    "else:\n",
    "  model.load_state_dict(torch.load(path, map_location=torch.device('cpu')))"
   ]
  },
  {
   "cell_type": "code",
   "execution_count": null,
   "metadata": {
    "colab": {
     "base_uri": "https://localhost:8080/"
    },
    "id": "phnWtosCunVq",
    "outputId": "f12d7477-b9a9-456f-adeb-c4cdb4dd4ca7"
   },
   "outputs": [],
   "source": [
    "diffusion = Diffusion(img_size=args.image_size, device=\"cuda\")\n",
    "image_batches = []\n",
    "for i in range(5):\n",
    "  iarr = []\n",
    "  image_batches.append(diffusion.sample(model, n=100, disable_bar=False, out=iarr))\n",
    "images_batches = tuple(image_batches)\n",
    "sampled_images = torch.cat(image_batches, dim=0)\n"
   ]
  },
  {
   "cell_type": "markdown",
   "metadata": {
    "id": "9YS6Zvk5uxOn"
   },
   "source": [
    "### Adding generated Images to folder 2xUD_Images"
   ]
  },
  {
   "cell_type": "code",
   "execution_count": null,
   "metadata": {
    "colab": {
     "base_uri": "https://localhost:8080/",
     "height": 406
    },
    "id": "jS41W7Arups0",
    "outputId": "befc70bd-919d-4cdb-a257-817655e65aa7"
   },
   "outputs": [],
   "source": [
    "args.folder_name = \"2xUD_Images\"\n",
    "# Create the output folder if it doesn't exist\n",
    "output_folder = os.path.join(\"output/images_FID/\", args.folder_name)\n",
    "os.makedirs(output_folder, exist_ok=True)\n",
    "\n",
    "# Save each image individually\n",
    "for i, image in enumerate(sampled_images):\n",
    "    if i<num_images:\n",
    "      image_path = os.path.join(output_folder, f\"{i}.png\")\n",
    "      save_images(image, image_path)\n",
    "    \"\"\"\n",
    "    if i<5:\n",
    "      plt.figure()\n",
    "      plt.imshow(image.permute(1,2,0).to('cpu').numpy())\n",
    "    \"\"\"\n",
    "\n",
    "# Display the image grid\n",
    "img_grid = torchvision.utils.make_grid(sampled_images)\n",
    "ndarr = img_grid.permute(1, 2, 0).cpu().numpy()\n",
    "plt.figure()\n",
    "plt.axis(\"off\")\n",
    "plt.imshow(ndarr)\n",
    "plt.show()"
   ]
  },
  {
   "cell_type": "code",
   "execution_count": null,
   "metadata": {
    "colab": {
     "base_uri": "https://localhost:8080/",
     "height": 1000
    },
    "id": "ZbyZA6jzxCFC",
    "outputId": "5626eb26-6e16-40a8-e781-78f5e8d6f372"
   },
   "outputs": [],
   "source": [
    "view_some_images(5, \"output/images_FID/2xUD_Images\")"
   ]
  },
  {
   "cell_type": "markdown",
   "metadata": {
    "id": "Z4tScw8bxQ2e"
   },
   "source": [
    "## FID for 2xUD"
   ]
  },
  {
   "cell_type": "code",
   "execution_count": null,
   "metadata": {
    "colab": {
     "base_uri": "https://localhost:8080/"
    },
    "id": "EtBafBtExTDg",
    "outputId": "191f4fb3-3f0e-435c-d2c7-2467f46b41ed"
   },
   "outputs": [],
   "source": [
    "!python -m pytorch_fid output/images_FID/2xUD_Images output/images_FID/test_images"
   ]
  },
  {
   "cell_type": "markdown",
   "metadata": {
    "id": "KTLLizOcxk7E"
   },
   "source": [
    "# FID for 3xBlocks"
   ]
  },
  {
   "cell_type": "code",
   "execution_count": null,
   "metadata": {
    "id": "EJsSzvDGxk7E"
   },
   "outputs": [],
   "source": [
    "args = types.SimpleNamespace()\n",
    "args.run_name = \"1024ep-16batch-3e4lr-3xblocks\"\n",
    "args.epochs = 1024\n",
    "args.batch_size = 16\n",
    "args.image_size = 32\n",
    "if torch.cuda.is_available():\n",
    "  args.device = \"cuda\"\n",
    "else:\n",
    "  args.device = \"cpu\"\n",
    "args.lr = 3e-4\n",
    "args.model = \"UNet\""
   ]
  },
  {
   "cell_type": "code",
   "execution_count": null,
   "metadata": {
    "id": "f002qv3yxk7E"
   },
   "outputs": [],
   "source": [
    "path = os.path.join(\"models/CatDiffusion/\", args.run_name, \"ckpt.pt\")\n",
    "if (args.model == \"UNet\"):\n",
    "    model = UNet(device=args.device).to(args.device)\n",
    "elif (args.model == \"UNet_2xUD\"):\n",
    "    model = UNet_2xUD(device=args.device).to(args.device)\n",
    "elif (args.model == \"UNet_2xUD_halfchannels\"):\n",
    "        model = UNet_2xUD_halfchannels(device=args.device).to(args.device)\n",
    "\n",
    "if torch.cuda.is_available():\n",
    "  model.load_state_dict(torch.load(path))\n",
    "else:\n",
    "  model.load_state_dict(torch.load(path, map_location=torch.device('cpu')))"
   ]
  },
  {
   "cell_type": "code",
   "execution_count": null,
   "metadata": {
    "colab": {
     "base_uri": "https://localhost:8080/"
    },
    "id": "eBs2ipo_xk7E",
    "outputId": "d067d975-f616-43fc-b80c-2fdea63958ec"
   },
   "outputs": [],
   "source": [
    "diffusion = Diffusion(img_size=args.image_size, device=\"cuda\")\n",
    "image_batches = []\n",
    "for i in range(5):\n",
    "  iarr = []\n",
    "  image_batches.append(diffusion.sample(model, n=100, disable_bar=False, out=iarr))\n",
    "images_batches = tuple(image_batches)\n",
    "sampled_images = torch.cat(image_batches, dim=0)"
   ]
  },
  {
   "cell_type": "markdown",
   "metadata": {
    "id": "H4_-RxTexk7F"
   },
   "source": [
    "### Adding generated Images to folder 3xblocks_Images"
   ]
  },
  {
   "cell_type": "code",
   "execution_count": null,
   "metadata": {
    "colab": {
     "base_uri": "https://localhost:8080/",
     "height": 406
    },
    "id": "kO-81dr7xk7F",
    "outputId": "3d6e4ff5-938c-4e24-8ce3-7bc3d2448520"
   },
   "outputs": [],
   "source": [
    "args.folder_name = \"3xblocks_Images\"\n",
    "# Create the output folder if it doesn't exist\n",
    "output_folder = os.path.join(\"output/images_FID/\", args.folder_name)\n",
    "os.makedirs(output_folder, exist_ok=True)\n",
    "\n",
    "# Save each image individually\n",
    "for i, image in enumerate(sampled_images):\n",
    "    if i<num_images:\n",
    "      image_path = os.path.join(output_folder, f\"{i}.png\")\n",
    "      save_images(image, image_path)\n",
    "    \"\"\"\n",
    "    if i<5:\n",
    "      plt.figure()\n",
    "      plt.imshow(image.permute(1,2,0).to('cpu').numpy())\n",
    "    \"\"\"\n",
    "\n",
    "# Display the image grid\n",
    "img_grid = torchvision.utils.make_grid(sampled_images)\n",
    "ndarr = img_grid.permute(1, 2, 0).cpu().numpy()\n",
    "plt.figure()\n",
    "plt.axis(\"off\")\n",
    "plt.imshow(ndarr)\n",
    "plt.show()"
   ]
  },
  {
   "cell_type": "code",
   "execution_count": null,
   "metadata": {
    "colab": {
     "base_uri": "https://localhost:8080/",
     "height": 1000
    },
    "id": "YJjFbmNTxJzy",
    "outputId": "67929339-6ff3-4439-83c2-9a7b40ffbf65"
   },
   "outputs": [],
   "source": [
    "view_some_images(5, \"output/images_FID/3xblocks_Images\")"
   ]
  },
  {
   "cell_type": "markdown",
   "metadata": {
    "id": "ixZCpniExk7F"
   },
   "source": [
    "## FID for 3xblocks"
   ]
  },
  {
   "cell_type": "code",
   "execution_count": null,
   "metadata": {
    "colab": {
     "base_uri": "https://localhost:8080/"
    },
    "id": "GvAHCCHQxk7M",
    "outputId": "abb72983-6fbd-417b-ba95-20375a4c97be"
   },
   "outputs": [],
   "source": [
    "!python -m pytorch_fid output/images_FID/3xblocks_Images output/images_FID/test_images"
   ]
  },
  {
   "cell_type": "markdown",
   "metadata": {
    "id": "v8kju-HucoHn"
   },
   "source": [
    "# FID for Cosine test 1024 ep"
   ]
  },
  {
   "cell_type": "code",
   "execution_count": null,
   "metadata": {
    "id": "THZgamBrcoHp"
   },
   "outputs": [],
   "source": [
    "args = types.SimpleNamespace()\n",
    "args.run_name = \"1024ep-16batch-UNet-cosine-test\"\n",
    "args.epochs = 1024\n",
    "args.batch_size = 16\n",
    "args.image_size = 32\n",
    "if torch.cuda.is_available():\n",
    "  args.device = \"cuda\"\n",
    "else:\n",
    "  args.device = \"cpu\"\n",
    "args.lr = 3e-4\n",
    "args.model = \"UNet\""
   ]
  },
  {
   "cell_type": "code",
   "execution_count": null,
   "metadata": {
    "colab": {
     "base_uri": "https://localhost:8080/"
    },
    "id": "2X5A7Z-Pc1_f",
    "outputId": "c90a923e-2285-4199-eb67-4b2c5b014cd5"
   },
   "outputs": [],
   "source": [
    "torch.cuda.is_available()"
   ]
  },
  {
   "cell_type": "code",
   "execution_count": null,
   "metadata": {
    "id": "6EDhyS14coHq"
   },
   "outputs": [],
   "source": [
    "path = os.path.join(\"models/CatDiffusion/\", args.run_name, \"ckpt.pt\")\n",
    "if (args.model == \"UNet\"):\n",
    "    model = UNet(device=args.device).to(args.device)\n",
    "elif (args.model == \"UNet_2xUD\"):\n",
    "    model = UNet_2xUD(device=args.device).to(args.device)\n",
    "elif (args.model == \"UNet_2xUD_halfchannels\"):\n",
    "        model = UNet_2xUD_halfchannels(device=args.device).to(args.device)\n",
    "\n",
    "if torch.cuda.is_available():\n",
    "  model.load_state_dict(torch.load(path))\n",
    "else:\n",
    "  model.load_state_dict(torch.load(path, map_location=torch.device('cpu')))"
   ]
  },
  {
   "cell_type": "code",
   "execution_count": null,
   "metadata": {
    "colab": {
     "base_uri": "https://localhost:8080/"
    },
    "id": "LTp6fs1Cm8wJ",
    "outputId": "51fae516-08fe-4982-d2c4-4df7e5304a5f"
   },
   "outputs": [],
   "source": [
    "diffusion = Diffusion(img_size=args.image_size, device=\"cuda\", schedule=\"cosine\")\n",
    "image_batches = []\n",
    "for i in range(5):\n",
    "  iarr = []\n",
    "  image_batches.append(diffusion.sample(model, n=100, disable_bar=False, out=iarr))\n",
    "images_batches = tuple(image_batches)\n",
    "sampled_images = torch.cat(image_batches, dim=0)"
   ]
  },
  {
   "cell_type": "markdown",
   "metadata": {
    "id": "WqRuI7uZcoHs"
   },
   "source": [
    "### Adding generated Images to folder Cosine_images"
   ]
  },
  {
   "cell_type": "code",
   "execution_count": null,
   "metadata": {
    "colab": {
     "base_uri": "https://localhost:8080/",
     "height": 406
    },
    "id": "QkX3x0AlcoHs",
    "outputId": "4fdb934d-f37a-46c0-f988-33c18d8117fd"
   },
   "outputs": [],
   "source": [
    "args.folder_name = \"Cosine_images\"\n",
    "# Create the output folder if it doesn't exist\n",
    "output_folder = os.path.join(\"output/images_FID/\", args.folder_name)\n",
    "os.makedirs(output_folder, exist_ok=True)\n",
    "\n",
    "# Save each image individually\n",
    "for i, image in enumerate(sampled_images):\n",
    "    if i<num_images:\n",
    "      image_path = os.path.join(output_folder, f\"{i}.png\")\n",
    "      save_images(image, image_path)\n",
    "    \"\"\"\n",
    "    if i<5:\n",
    "      plt.figure()\n",
    "      plt.imshow(image.permute(1,2,0).to('cpu').numpy())\n",
    "    \"\"\"\n",
    "\n",
    "# Display the image grid\n",
    "img_grid = torchvision.utils.make_grid(sampled_images)\n",
    "ndarr = img_grid.permute(1, 2, 0).cpu().numpy()\n",
    "plt.figure()\n",
    "plt.axis(\"off\")\n",
    "plt.imshow(ndarr)\n",
    "plt.show()"
   ]
  },
  {
   "cell_type": "code",
   "execution_count": null,
   "metadata": {
    "colab": {
     "base_uri": "https://localhost:8080/",
     "height": 1000
    },
    "id": "Qn5BWO5zuV9o",
    "outputId": "1ef20b3e-c093-4e6c-eda9-6ccdf1076013"
   },
   "outputs": [],
   "source": [
    "view_some_images(5, \"output/images_FID/Cosine_images\")"
   ]
  },
  {
   "cell_type": "code",
   "execution_count": null,
   "metadata": {
    "colab": {
     "base_uri": "https://localhost:8080/"
    },
    "id": "Kns0ukWKslpp",
    "outputId": "113a5b11-305f-417e-e7fe-87973456246b"
   },
   "outputs": [],
   "source": [
    "print(len([name for name in os.listdir(os.path.join(\"output/images_FID/\", args.folder_name))]))"
   ]
  },
  {
   "cell_type": "markdown",
   "metadata": {
    "id": "2ePD1L1ZcoHt"
   },
   "source": [
    "## FID for Cosine"
   ]
  },
  {
   "cell_type": "code",
   "execution_count": null,
   "metadata": {
    "colab": {
     "base_uri": "https://localhost:8080/"
    },
    "id": "vrX1LwqFcoHu",
    "outputId": "0e563aae-3907-4edc-c9e0-8d8a1f513b11"
   },
   "outputs": [],
   "source": [
    "!python -m pytorch_fid output/images_FID/Cosine_images output/images_FID/test_images"
   ]
  },
  {
   "cell_type": "markdown",
   "metadata": {
    "id": "goPUWkWB7RS1"
   },
   "source": [
    "## Function definitions to make the above easier"
   ]
  },
  {
   "cell_type": "code",
   "execution_count": null,
   "metadata": {
    "id": "tjnOFot37YVF"
   },
   "outputs": [],
   "source": [
    "def save_test_images(num_images, folder_name):\n",
    "  batch_size = 1\n",
    "  transform = transforms.Compose(\n",
    "      [transforms.ToTensor(),\n",
    "      transforms.Normalize((0.5, 0.5, 0.5), (0.5, 0.5, 0.5))])\n",
    "  testset = torchvision.datasets.CIFAR10(root='./data', train=False, download=True, transform=transform)\n",
    "  cat_idxs = np.where((np.array(testset.targets) == 3))[0]\n",
    "  catset = torch.utils.data.Subset(testset, cat_idxs)\n",
    "  catloader = torch.utils.data.DataLoader(catset, batch_size=batch_size, shuffle=False, num_workers=2)\n",
    "\n",
    "\n",
    "\n",
    "  images, _ = next(iter(catloader))\n",
    "  imshow(torchvision.utils.make_grid(images))\n",
    "  test_folder = folder_name\n",
    "  output_folder = os.path.join(\"output/\", test_folder)\n",
    "  os.makedirs(output_folder, exist_ok=True)\n",
    "\n",
    "  img_grid_images = []\n",
    "  for i, (images, _) in enumerate(catloader):\n",
    "    if i<num_images:\n",
    "      images = images/2 + 0.5\n",
    "      img_grid_images.append(images[0])\n",
    "      image_path = os.path.join(output_folder, f\"{i}.png\")\n",
    "      save_image(images[0], image_path)\n",
    "\n",
    "  img_grid = torchvision.utils.make_grid(img_grid_images)\n",
    "  ndarr = img_grid.permute(1, 2, 0).cpu().numpy()\n",
    "  plt.figure()\n",
    "  plt.axis(\"off\")\n",
    "  plt.imshow(ndarr)\n",
    "  plt.show()"
   ]
  },
  {
   "cell_type": "code",
   "execution_count": null,
   "metadata": {
    "id": "LSiQ6Q5C8z90"
   },
   "outputs": [],
   "source": [
    "def save_images_model(num_images, args, folder_name):\n",
    "  path = os.path.join(\"models/CatDiffusion/\", args.run_name, \"ckpt.pt\")\n",
    "  if (args.model == \"UNet\"):\n",
    "      model = UNet(device=args.device).to(args.device)\n",
    "  elif (args.model == \"UNet_2xUD\"):\n",
    "      model = UNet_2xUD(device=args.device).to(args.device)\n",
    "  elif (args.model == \"UNet_2xUD_halfchannels\"):\n",
    "          model = UNet_2xUD_halfchannels(device=args.device).to(args.device)\n",
    "\n",
    "  if torch.cuda.is_available():\n",
    "    model.load_state_dict(torch.load(path))\n",
    "  else:\n",
    "    model.load_state_dict(torch.load(path, map_location=torch.device('cpu')))\n",
    "\n",
    "  diffusion = Diffusion(img_size=args.image_size, device=\"cuda\")\n",
    "  sampled_images = diffusion.sample(model, n=num_images, disable_bar=False)\n",
    "\n",
    "  args.folder_name = folder_name\n",
    "  # Create the output folder if it doesn't exist\n",
    "  output_folder = os.path.join(\"output/\", args.folder_name)\n",
    "  os.makedirs(output_folder, exist_ok=True)\n",
    "\n",
    "  # Save each image individually\n",
    "  for i, image in enumerate(sampled_images):\n",
    "      if i<num_images:\n",
    "        image_path = os.path.join(output_folder, f\"{i}.png\")\n",
    "        save_images(image, image_path)\n",
    "      \"\"\"\n",
    "      if i<5:\n",
    "        plt.figure()\n",
    "        plt.imshow(image.permute(1,2,0).to('cpu').numpy())\n",
    "      \"\"\"\n",
    "\n",
    "  # Display the image grid\n",
    "  img_grid = torchvision.utils.make_grid(sampled_images)\n",
    "  ndarr = img_grid.permute(1, 2, 0).cpu().numpy()\n",
    "  plt.figure()\n",
    "  plt.axis(\"off\")\n",
    "  plt.imshow(ndarr)\n",
    "  plt.show()"
   ]
  },
  {
   "cell_type": "markdown",
   "metadata": {
    "id": "w0uI-sB7b40P"
   },
   "source": [
    "# Trying out the GAN"
   ]
  },
  {
   "cell_type": "code",
   "execution_count": null,
   "metadata": {
    "id": "gxx21xelfzbW"
   },
   "outputs": [],
   "source": [
    "nc = 3      # number of channels in training image\n",
    "nz = 128    # latent vector size\n",
    "\n",
    "# size of feature maps in generator and discriminator\n",
    "ngf = 64\n",
    "ndf = 64\n",
    "\n",
    "num_epochs = 1024\n",
    "lr = 0.0002\n",
    "beta1 = 0.5\n",
    "ngpu = 1\n",
    "smoothed = True\n",
    "noised = True"
   ]
  },
  {
   "cell_type": "code",
   "execution_count": null,
   "metadata": {
    "id": "MINsh_T5gpZF"
   },
   "outputs": [],
   "source": [
    "def imshow(img, title=\"\"):\n",
    "    img = img / 2 + 0.5     # unnormalize\n",
    "    img = img.numpy()\n",
    "    plt.figure(figsize=(8,8))\n",
    "    plt.title(title)\n",
    "    plt.imshow(np.transpose(img, (1, 2, 0)))\n",
    "    plt.show()"
   ]
  },
  {
   "cell_type": "code",
   "execution_count": null,
   "metadata": {
    "id": "iUVV-6UMiZ5g"
   },
   "outputs": [],
   "source": [
    "def save_images(images, path, **kwargs):\n",
    "    # grid = torchvision.utils.make_grid(images, **kwargs)\n",
    "    ndarr = images.permute(1, 2, 0).to('cpu').numpy()\n",
    "    #print(ndarr.shape)\n",
    "    im = Image.fromarray(ndarr)\n",
    "    im.save(path)"
   ]
  },
  {
   "cell_type": "code",
   "execution_count": null,
   "metadata": {
    "id": "KY4DWDLicKzw"
   },
   "outputs": [],
   "source": [
    "class Generator(nn.Module):\n",
    "    def __init__(self, ngpu):\n",
    "        super(Generator, self).__init__()\n",
    "        self.ngpu = ngpu\n",
    "\n",
    "        self.relu = nn.ReLU(True)\n",
    "        self.cvt1 = nn.ConvTranspose2d(nz, ngf * 4, 4, 1, 0, bias=False)\n",
    "        self.bn1 = nn.BatchNorm2d(ngf * 4)\n",
    "        \n",
    "        self.cvt2 = nn.ConvTranspose2d(ngf * 4, ngf * 4, 4, 2, 1, bias=False)\n",
    "        self.bn2 = nn.BatchNorm2d(ngf * 4)\n",
    "\n",
    "        self.cvt3 = nn.ConvTranspose2d(ngf * 4, ngf, 4, 2, 1, bias=False)\n",
    "        self.bn3 = nn.BatchNorm2d(ngf)\n",
    "\n",
    "        self.cvt4 = nn.ConvTranspose2d(ngf, nc, 4, 2, 1, bias=False)\n",
    "        self.tanh = nn.Tanh()\n",
    "\n",
    "    def forward(self, x):\n",
    "        x = self.cvt1(x)\n",
    "        x = self.bn1(x)\n",
    "        x = self.relu(x)\n",
    "\n",
    "        x = self.cvt2(x)\n",
    "        x = self.bn2(x)\n",
    "        x = self.relu(x)\n",
    "\n",
    "        x = self.cvt3(x)\n",
    "        x = self.bn3(x)\n",
    "        x = self.relu(x)\n",
    "\n",
    "        x = self.cvt4(x)\n",
    "        x = self.tanh(x)\n",
    "        return x"
   ]
  },
  {
   "cell_type": "markdown",
   "metadata": {
    "id": "Ndvhz9ti3Ma8"
   },
   "source": [
    "# Doing GAN 1024ep_64nf_128nz_smoothed_noised_default-D_block2outngfx4-G.pt"
   ]
  },
  {
   "cell_type": "code",
   "execution_count": null,
   "metadata": {
    "id": "1dAoEouqf6N5"
   },
   "outputs": [],
   "source": [
    "\n",
    "path = \"models/CatGAN/1024ep_64nf_128nz_smoothed_noised_default-D_block2outngfx4-G.pt\"\n",
    "gen = torch.Generator(device=device)\n",
    "gen.seed()\n",
    "noise = torch.randn(500, nz, 1, 1, device=device, generator=gen)\n",
    "\n",
    "loaded = Generator(ngpu).to(device)\n",
    "loaded.load_state_dict(torch.load(path))\n",
    "\n",
    "loaded.eval()\n",
    "out = loaded(noise).cpu()\n",
    "out= out.detach()\n"
   ]
  },
  {
   "cell_type": "code",
   "execution_count": null,
   "metadata": {
    "colab": {
     "base_uri": "https://localhost:8080/",
     "height": 682
    },
    "id": "Ld_EPx62iIAM",
    "outputId": "fba12228-7e5f-42b9-b901-75c1ed28e3cd"
   },
   "outputs": [],
   "source": [
    "\n",
    "img_folder = \"1024ep_64nf_128nz_smoothed_noised_default-D_block2outngfx4-G_images/\"\n",
    "#print(out)\n",
    "#print(out.shape)\n",
    "output_folder = os.path.join(\"output/images_FID/\", img_folder)\n",
    "#shutil.rmtree(output_folder)\n",
    "os.makedirs(output_folder, exist_ok=True)\n",
    "\n",
    "\n",
    "# Save each image individually\n",
    "for i, image in enumerate(out):\n",
    "  image_path = os.path.join(output_folder, f\"{i}.png\")\n",
    "  toPIL = transforms.ToPILImage()\n",
    "  #ndarr = ((image /2 +0.5)*255).permute(1,2,0).numpy()\n",
    "  #print(ndarr)\n",
    "  newPIL = toPIL(image/2 + 0.5)\n",
    "  #newPIL.show()\n",
    "  newPIL.save(image_path)\n",
    "  #im = Image.fromarray(ndarr)\n",
    "  #plt.imshow((image/2 + 0.5).permute(1,2,0))\n",
    "  #im.save(image_path)\n",
    "\n",
    "# Display the image grid\n",
    "\n",
    "img_grid = torchvision.utils.make_grid(out)\n",
    "imshow(img_grid)\n"
   ]
  },
  {
   "cell_type": "code",
   "execution_count": null,
   "metadata": {
    "colab": {
     "base_uri": "https://localhost:8080/",
     "height": 1000
    },
    "id": "IMF3uyxoxYc4",
    "outputId": "3a587dbc-e5a5-4099-b703-b38bcf62ee6a"
   },
   "outputs": [],
   "source": [
    "view_some_images(5, \"output/images_FID/1024ep_64nf_128nz_smoothed_noised_default-D_block2outngfx4-G_images\")"
   ]
  },
  {
   "cell_type": "code",
   "execution_count": null,
   "metadata": {
    "colab": {
     "base_uri": "https://localhost:8080/"
    },
    "id": "8ERVdA6vnaOJ",
    "outputId": "53d0677d-bfa3-45f4-b59c-c47508296941"
   },
   "outputs": [],
   "source": [
    "print(len([name for name in os.listdir(os.path.join(\"./output/images_FID/\", img_folder))]))"
   ]
  },
  {
   "cell_type": "code",
   "execution_count": null,
   "metadata": {
    "colab": {
     "base_uri": "https://localhost:8080/"
    },
    "id": "RCcBj0r23Kpi",
    "outputId": "ea35d7a5-d38d-44c9-cb87-96c9a0be601e"
   },
   "outputs": [],
   "source": [
    "pip install pytorch-fid"
   ]
  },
  {
   "cell_type": "code",
   "execution_count": null,
   "metadata": {
    "id": "0blWlZpR9hqO"
   },
   "outputs": [],
   "source": []
  },
  {
   "cell_type": "markdown",
   "metadata": {
    "id": "19gZe8Nu9iob"
   },
   "source": [
    "## FID for smoothed GAN"
   ]
  },
  {
   "cell_type": "code",
   "execution_count": null,
   "metadata": {
    "colab": {
     "base_uri": "https://localhost:8080/"
    },
    "id": "3xpLMFfE3bmQ",
    "outputId": "39f61dc6-0e54-4ec0-acc5-1c266cdbaa7f"
   },
   "outputs": [],
   "source": [
    "!python -m pytorch_fid output/images_FID/1024ep_64nf_128nz_smoothed_noised_default-D_block2outngfx4-G_images output/images_FID/test_images"
   ]
  },
  {
   "cell_type": "markdown",
   "metadata": {
    "id": "sMW3Sxdw4BYW"
   },
   "source": [
    "# Doing GAN 1024ep_64nf_128nz_default-D_default-G.pt"
   ]
  },
  {
   "cell_type": "code",
   "execution_count": null,
   "metadata": {
    "id": "HqDomdtMW5TZ"
   },
   "outputs": [],
   "source": [
    "# Other generator\n",
    "class Generator(nn.Module):\n",
    "    def __init__(self, ngpu):\n",
    "        super(Generator, self).__init__()\n",
    "        self.ngpu = ngpu\n",
    "        self.net = nn.Sequential(\n",
    "            # input is Z, going into a convolution\n",
    "            nn.ConvTranspose2d( nz, ngf * 4, 4, 1, 0, bias=False),\n",
    "            nn.BatchNorm2d(ngf * 4),\n",
    "            nn.ReLU(True),\n",
    "            # state size. ``(ngf*4) x 4 x 4``\n",
    "            nn.ConvTranspose2d(ngf * 4, ngf * 2, 4, 2, 1, bias=False),\n",
    "            nn.BatchNorm2d(ngf * 2),\n",
    "            nn.ReLU(True),\n",
    "            # state size. ``(ngf*2) x 8 x 8``\n",
    "            nn.ConvTranspose2d( ngf * 2, ngf, 4, 2, 1, bias=False),\n",
    "            nn.BatchNorm2d(ngf),\n",
    "            nn.ReLU(True),\n",
    "            # state size. ``(ngf) x 16 x 16``\n",
    "            nn.ConvTranspose2d(ngf, nc, 4, 2, 1, bias=False),\n",
    "            nn.Tanh()\n",
    "            # state size. ``(nc) x 32 x 32``\n",
    "        )\n",
    "\n",
    "    def forward(self, x):\n",
    "        return self.net(x)"
   ]
  },
  {
   "cell_type": "code",
   "execution_count": null,
   "metadata": {
    "id": "ibNReda04BYX"
   },
   "outputs": [],
   "source": [
    "\n",
    "path = \"models/CatGAN/1024ep_64nf_128nz_default-D_default-G.pt\"\n",
    "gen = torch.Generator(device=device)\n",
    "gen.seed()\n",
    "noise = torch.randn(500, nz, 1, 1, device=device, generator=gen)\n",
    "\n",
    "loaded = Generator(ngpu).to(device)\n",
    "loaded.load_state_dict(torch.load(path, map_location=device))\n",
    "\n",
    "loaded.eval()\n",
    "out = loaded(noise).cpu()\n",
    "out= out.detach()\n"
   ]
  },
  {
   "cell_type": "code",
   "execution_count": null,
   "metadata": {
    "colab": {
     "base_uri": "https://localhost:8080/",
     "height": 682
    },
    "id": "O7-pYsOc4BYY",
    "outputId": "80223e99-d297-4190-d30d-36e5fee130ac"
   },
   "outputs": [],
   "source": [
    "\n",
    "img_folder = \"1024ep_64nf_128nz_default-D_default-G_images/\"\n",
    "#print(out)\n",
    "#print(out.shape)\n",
    "output_folder = os.path.join(\"output/images_FID/\", img_folder)\n",
    "#shutil.rmtree(output_folder)\n",
    "os.makedirs(output_folder, exist_ok=True)\n",
    "\n",
    "\n",
    "# Save each image individually\n",
    "for i, image in enumerate(out):\n",
    "  image_path = os.path.join(output_folder, f\"{i}.png\")\n",
    "  toPIL = transforms.ToPILImage()\n",
    "  #ndarr = ((image /2 +0.5)*255).permute(1,2,0).numpy()\n",
    "  #print(ndarr)\n",
    "  newPIL = toPIL(image/2 + 0.5)\n",
    "  #newPIL.show()\n",
    "  newPIL.save(image_path)\n",
    "  #im = Image.fromarray(ndarr)\n",
    "  #plt.imshow((image/2 + 0.5).permute(1,2,0))\n",
    "  #im.save(image_path)\n",
    "\n",
    "# Display the image grid\n",
    "\n",
    "img_grid = torchvision.utils.make_grid(out)\n",
    "imshow(img_grid)\n"
   ]
  },
  {
   "cell_type": "code",
   "execution_count": null,
   "metadata": {
    "colab": {
     "base_uri": "https://localhost:8080/",
     "height": 1000
    },
    "id": "QGIzZHfcHLCJ",
    "outputId": "385cc9cf-abdd-479c-e3e4-492956001809"
   },
   "outputs": [],
   "source": [
    "view_some_images(5, \"output/images_FID/1024ep_64nf_128nz_default-D_default-G_images\")"
   ]
  },
  {
   "cell_type": "code",
   "execution_count": null,
   "metadata": {
    "colab": {
     "base_uri": "https://localhost:8080/"
    },
    "id": "fEgkiTwZaoED",
    "outputId": "7d2ee5cf-a034-4cc5-d700-30cd672b4588"
   },
   "outputs": [],
   "source": [
    "print(len([name for name in os.listdir(os.path.join(\"./output/images_FID/\", img_folder))]))"
   ]
  },
  {
   "cell_type": "markdown",
   "metadata": {
    "id": "XJ2ZsTrx9pdR"
   },
   "source": [
    "## FID for default gan 1024 ep"
   ]
  },
  {
   "cell_type": "code",
   "execution_count": null,
   "metadata": {
    "colab": {
     "base_uri": "https://localhost:8080/"
    },
    "id": "fOSRLtXHawDJ",
    "outputId": "2434f31f-8813-4372-f082-7bffc0262208"
   },
   "outputs": [],
   "source": [
    "!python -m pytorch_fid output/images_FID/1024ep_64nf_128nz_default-D_default-G_images output/images_FID/test_images"
   ]
  },
  {
   "cell_type": "markdown",
   "metadata": {
    "id": "3HtNPZFwgLmE"
   },
   "source": [
    "# Doing GAN 512ep_64nf_128nz_default-D_default-G.pt"
   ]
  },
  {
   "cell_type": "code",
   "execution_count": null,
   "metadata": {
    "id": "kKbHOPkCgLmF"
   },
   "outputs": [],
   "source": [
    "\n",
    "path = \"models/CatGAN/512ep_64nf_128nz_default-D_default-G.pt\"\n",
    "gen = torch.Generator(device=device)\n",
    "gen.seed()\n",
    "noise = torch.randn(500, nz, 1, 1, device=device, generator=gen)\n",
    "\n",
    "loaded = Generator(ngpu).to(device)\n",
    "loaded.load_state_dict(torch.load(path, map_location=device))\n",
    "\n",
    "loaded.eval()\n",
    "out = loaded(noise).cpu()\n",
    "out= out.detach()\n"
   ]
  },
  {
   "cell_type": "code",
   "execution_count": null,
   "metadata": {
    "colab": {
     "base_uri": "https://localhost:8080/",
     "height": 682
    },
    "id": "_mxfu5MsgLmG",
    "outputId": "bd24c873-616d-4332-f688-561a150ebd15"
   },
   "outputs": [],
   "source": [
    "\n",
    "img_folder = \"512ep_64nf_128nz_default-D_default-G_images/\"\n",
    "#print(out)\n",
    "#print(out.shape)\n",
    "output_folder = os.path.join(\"output/images_FID/\", img_folder)\n",
    "#shutil.rmtree(output_folder)\n",
    "os.makedirs(output_folder, exist_ok=True)\n",
    "\n",
    "\n",
    "# Save each image individually\n",
    "for i, image in enumerate(out):\n",
    "  image_path = os.path.join(output_folder, f\"{i}.png\")\n",
    "  toPIL = transforms.ToPILImage()\n",
    "  #ndarr = ((image /2 +0.5)*255).permute(1,2,0).numpy()\n",
    "  #print(ndarr)\n",
    "  newPIL = toPIL(image/2 + 0.5)\n",
    "  #newPIL.show()\n",
    "  newPIL.save(image_path)\n",
    "  #im = Image.fromarray(ndarr)\n",
    "  #plt.imshow((image/2 + 0.5).permute(1,2,0))\n",
    "  #im.save(image_path)\n",
    "\n",
    "# Display the image grid\n",
    "\n",
    "img_grid = torchvision.utils.make_grid(out)\n",
    "imshow(img_grid)\n"
   ]
  },
  {
   "cell_type": "code",
   "execution_count": null,
   "metadata": {
    "colab": {
     "base_uri": "https://localhost:8080/",
     "height": 1000
    },
    "id": "F6MPWirlINOZ",
    "outputId": "95a2fae0-e0a6-4a52-ff68-94eb0f193d4d"
   },
   "outputs": [],
   "source": [
    "view_some_images(5, \"output/images_FID/512ep_64nf_128nz_default-D_default-G_images\")"
   ]
  },
  {
   "cell_type": "code",
   "execution_count": null,
   "metadata": {
    "colab": {
     "base_uri": "https://localhost:8080/"
    },
    "id": "a_2noneigLmH",
    "outputId": "5ca610d0-32e4-411c-fb41-1173774059ee"
   },
   "outputs": [],
   "source": [
    "print(len([name for name in os.listdir(os.path.join(\"./output/images_FID/\", img_folder))]))"
   ]
  },
  {
   "cell_type": "markdown",
   "metadata": {
    "id": "_s31i5Pv9t-2"
   },
   "source": [
    "## FID for default gan 512 epochs"
   ]
  },
  {
   "cell_type": "code",
   "execution_count": null,
   "metadata": {
    "colab": {
     "base_uri": "https://localhost:8080/"
    },
    "id": "p6yfn8PhgLmI",
    "outputId": "c54fa369-4733-4ad7-ecbc-38c4ca05018e"
   },
   "outputs": [],
   "source": [
    "!python -m pytorch_fid output/images_FID/512ep_64nf_128nz_default-D_default-G_images output/images_FID/test_images"
   ]
  }
 ],
 "metadata": {
  "accelerator": "GPU",
  "colab": {
   "gpuType": "T4",
   "provenance": [],
   "toc_visible": true
  },
  "environment": {
   "kernel": "python3",
   "name": "tf2-gpu.2-11.m108",
   "type": "gcloud",
   "uri": "gcr.io/deeplearning-platform-release/tf2-gpu.2-11:m108"
  },
  "kernelspec": {
   "display_name": "Python 3 (ipykernel)",
   "language": "python",
   "name": "python3"
  },
  "language_info": {
   "codemirror_mode": {
    "name": "ipython",
    "version": 3
   },
   "file_extension": ".py",
   "mimetype": "text/x-python",
   "name": "python",
   "nbconvert_exporter": "python",
   "pygments_lexer": "ipython3",
   "version": "3.7.12"
  }
 },
 "nbformat": 4,
 "nbformat_minor": 4
}
